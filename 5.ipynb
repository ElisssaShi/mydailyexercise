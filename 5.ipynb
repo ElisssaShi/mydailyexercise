{
 "cells": [
  {
   "cell_type": "markdown",
   "id": "9fed8e8f",
   "metadata": {},
   "source": [
    "把数据和呈现分开来，如果二者不分开会导致数据修改不够灵活"
   ]
  },
  {
   "cell_type": "code",
   "execution_count": 6,
   "id": "6f459656",
   "metadata": {},
   "outputs": [
    {
     "name": "stdout",
     "output_type": "stream",
     "text": [
      "------------------------------------------------------------\n"
     ]
    }
   ],
   "source": [
    "bar = [ch for ch in '-' * 60]\n",
    "print(''.join(bar))"
   ]
  },
  {
   "cell_type": "code",
   "execution_count": 9,
   "id": "ce37151a",
   "metadata": {},
   "outputs": [
    {
     "name": "stdout",
     "output_type": "stream",
     "text": [
      "#----------------------------------------------------------*\r"
     ]
    }
   ],
   "source": [
    "x = 0\n",
    "y = 59\n",
    "for i in range(60):\n",
    "    bar[x] = '*'\n",
    "    bar[y] = '#'\n",
    "    print(''.join(bar),end = '',flush = True)\n",
    "    bar[x] = '-'\n",
    "    bar[y] = '-'\n",
    "    x += 1\n",
    "    y -= 1\n",
    "    print('\\r',end = '',flush = True)\n"
   ]
  },
  {
   "cell_type": "code",
   "execution_count": 15,
   "id": "0c630fc2",
   "metadata": {},
   "outputs": [
    {
     "name": "stdout",
     "output_type": "stream",
     "text": [
      "Please input a number:58\n",
      "not found\n"
     ]
    }
   ],
   "source": [
    "x = int(input('Please input a number:'))\n",
    "for i in range(100):\n",
    "    if(i * i == x):\n",
    "        print(f'{i} squared is {x}')\n",
    "        break\n",
    "else:\n",
    "    print('not found')"
   ]
  },
  {
   "cell_type": "code",
   "execution_count": 18,
   "id": "beffd34d",
   "metadata": {},
   "outputs": [
    {
     "name": "stdout",
     "output_type": "stream",
     "text": [
      "a:20\n",
      "b:30\n",
      "c:40\n"
     ]
    }
   ],
   "source": [
    "names = ['a','b','c']\n",
    "ages = [20, 30, 40]\n",
    "for name, age in zip(names,ages):\n",
    "    print(f'{name}:{age}')"
   ]
  },
  {
   "cell_type": "code",
   "execution_count": 21,
   "id": "14081637",
   "metadata": {},
   "outputs": [
    {
     "name": "stdout",
     "output_type": "stream",
     "text": [
      "hello\n"
     ]
    }
   ],
   "source": [
    "exec(\"print('hello')\")"
   ]
  },
  {
   "cell_type": "code",
   "execution_count": 25,
   "id": "3b25ba1c",
   "metadata": {},
   "outputs": [],
   "source": [
    "def hello(name):\n",
    "    '''\n",
    "    say hello to someone\n",
    "    '''\n",
    "    print('*' * 50) \n",
    "    print(f'hello, {name}'.center(48,' ').center(50,'*'))\n",
    "    print('*' * 50)"
   ]
  },
  {
   "cell_type": "code",
   "execution_count": 26,
   "id": "2f548055",
   "metadata": {},
   "outputs": [
    {
     "name": "stdout",
     "output_type": "stream",
     "text": [
      "**************************************************\n",
      "*                  hello, wang                   *\n",
      "**************************************************\n"
     ]
    }
   ],
   "source": [
    "hello('wang')"
   ]
  },
  {
   "cell_type": "code",
   "execution_count": 27,
   "id": "a361aa1f",
   "metadata": {},
   "outputs": [
    {
     "name": "stdout",
     "output_type": "stream",
     "text": [
      "[0, 1]\n"
     ]
    }
   ],
   "source": [
    "def test(a_list):\n",
    "    a_list = [10]\n",
    "    \n",
    "mylist = [0, 1]\n",
    "test(mylist)\n",
    "print(mylist)"
   ]
  },
  {
   "cell_type": "code",
   "execution_count": 29,
   "id": "32512a06",
   "metadata": {},
   "outputs": [
    {
     "name": "stdout",
     "output_type": "stream",
     "text": [
      "8\n"
     ]
    }
   ],
   "source": [
    "def doubleit(num):\n",
    "    return  num * 2\n",
    "\n",
    "n = 4\n",
    "n = doubleit(n)\n",
    "print(n)"
   ]
  },
  {
   "cell_type": "code",
   "execution_count": 30,
   "id": "b9c9a7b5",
   "metadata": {},
   "outputs": [],
   "source": [
    "def hello(greeting, name):\n",
    "    print(f'{greeting},{name}')"
   ]
  },
  {
   "cell_type": "code",
   "execution_count": 31,
   "id": "791cf193",
   "metadata": {},
   "outputs": [
    {
     "name": "stdout",
     "output_type": "stream",
     "text": [
      "welcome to ECNU,wang\n"
     ]
    }
   ],
   "source": [
    "hello(greeting = 'welcome to ECNU',name = 'wang')"
   ]
  },
  {
   "cell_type": "code",
   "execution_count": 33,
   "id": "3efcd0f6",
   "metadata": {},
   "outputs": [
    {
     "name": "stdout",
     "output_type": "stream",
     "text": [
      "('a', 'b', 'c')\n"
     ]
    }
   ],
   "source": [
    "def print_p(*param):\n",
    "    print(param)\n",
    "\n",
    "print_p('a','b','c')"
   ]
  },
  {
   "cell_type": "code",
   "execution_count": 34,
   "id": "902ae43a",
   "metadata": {},
   "outputs": [
    {
     "name": "stdout",
     "output_type": "stream",
     "text": [
      "{'a': 1, 'b': 2, 'c': 3}\n"
     ]
    }
   ],
   "source": [
    "def print_p(**param):\n",
    "    print(param)\n",
    "\n",
    "print_p(a = 1,b = 2,c = 3)"
   ]
  },
  {
   "cell_type": "code",
   "execution_count": 35,
   "id": "f286e473",
   "metadata": {},
   "outputs": [
    {
     "ename": "NameError",
     "evalue": "name 'a' is not defined",
     "output_type": "error",
     "traceback": [
      "\u001b[1;31m---------------------------------------------------------------------------\u001b[0m",
      "\u001b[1;31mNameError\u001b[0m                                 Traceback (most recent call last)",
      "Cell \u001b[1;32mIn[35], line 4\u001b[0m\n\u001b[0;32m      1\u001b[0m \u001b[38;5;28;01mdef\u001b[39;00m \u001b[38;5;21mprint_p\u001b[39m(\u001b[38;5;241m*\u001b[39mparam):\n\u001b[0;32m      2\u001b[0m     \u001b[38;5;28mprint\u001b[39m(param)\n\u001b[1;32m----> 4\u001b[0m print_p(a,b,c)\n",
      "\u001b[1;31mNameError\u001b[0m: name 'a' is not defined"
     ]
    }
   ],
   "source": [
    "def print_p(*param):\n",
    "    print(param)\n",
    "\n",
    "print_p(a,b,c)"
   ]
  },
  {
   "cell_type": "code",
   "execution_count": 36,
   "id": "fa30c16c",
   "metadata": {},
   "outputs": [],
   "source": [
    "def print_numbers(n):\n",
    "    if n > 0:\n",
    "        print(n)\n",
    "        print_numbers(n - 1)"
   ]
  },
  {
   "cell_type": "code",
   "execution_count": 37,
   "id": "701ba484",
   "metadata": {},
   "outputs": [
    {
     "name": "stdout",
     "output_type": "stream",
     "text": [
      "10\n",
      "9\n",
      "8\n",
      "7\n",
      "6\n",
      "5\n",
      "4\n",
      "3\n",
      "2\n",
      "1\n"
     ]
    }
   ],
   "source": [
    "print_numbers(10)"
   ]
  },
  {
   "cell_type": "code",
   "execution_count": 38,
   "id": "86b6cd85",
   "metadata": {},
   "outputs": [
    {
     "name": "stdout",
     "output_type": "stream",
     "text": [
      "1\n",
      "2\n",
      "3\n",
      "4\n",
      "5\n",
      "6\n",
      "7\n",
      "8\n",
      "9\n",
      "10\n"
     ]
    }
   ],
   "source": [
    "def print_numbers(n):\n",
    "    if n > 0:\n",
    "        print_numbers(n - 1)\n",
    "        print(n)\n",
    "print_numbers(10)      "
   ]
  },
  {
   "cell_type": "code",
   "execution_count": 39,
   "id": "0b8b32cc",
   "metadata": {},
   "outputs": [],
   "source": [
    "def fib(i):\n",
    "    if i == 0 or i == 1:\n",
    "        return 1\n",
    "    else:\n",
    "        return fib(i-1)+fib(i-2)"
   ]
  },
  {
   "cell_type": "code",
   "execution_count": 40,
   "id": "4949fa5c",
   "metadata": {},
   "outputs": [
    {
     "data": {
      "text/plain": [
       "8"
      ]
     },
     "execution_count": 40,
     "metadata": {},
     "output_type": "execute_result"
    }
   ],
   "source": [
    "fib(5)"
   ]
  },
  {
   "cell_type": "code",
   "execution_count": 41,
   "id": "8fb61c02",
   "metadata": {},
   "outputs": [
    {
     "data": {
      "text/plain": [
       "573147844013817084101"
      ]
     },
     "execution_count": 41,
     "metadata": {},
     "output_type": "execute_result"
    }
   ],
   "source": [
    "from functools import lru_cache\n",
    "@lru_cache(maxsize = None)\n",
    "def fib(i):\n",
    "    if i == 0 or i == 1:\n",
    "        return 1\n",
    "    else:\n",
    "        return fib(i-1)+fib(i-2)\n",
    "fib(100)"
   ]
  },
  {
   "cell_type": "code",
   "execution_count": 43,
   "id": "01c6fdf4",
   "metadata": {},
   "outputs": [
    {
     "name": "stdout",
     "output_type": "stream",
     "text": [
      "a -> b\n",
      "a -> c\n",
      "b -> c\n",
      "a -> b\n",
      "c -> a\n",
      "c -> b\n",
      "a -> b\n",
      "a -> c\n",
      "b -> c\n",
      "b -> a\n",
      "c -> a\n",
      "b -> c\n",
      "a -> b\n",
      "a -> c\n",
      "b -> c\n"
     ]
    }
   ],
   "source": [
    "def hanoi(n,source,desk,temp):\n",
    "    if n>1:\n",
    "        hanoi(n-1, source, temp, desk)\n",
    "        print(f'{source} -> {desk}')\n",
    "        hanoi(n-1, temp, desk, source)\n",
    "    else:\n",
    "        print(f'{source} -> {desk}')\n",
    "\n",
    "hanoi(4,'a','c','b')"
   ]
  },
  {
   "cell_type": "code",
   "execution_count": null,
   "id": "eb1eb6e2",
   "metadata": {},
   "outputs": [],
   "source": []
  }
 ],
 "metadata": {
  "kernelspec": {
   "display_name": "Python 3 (ipykernel)",
   "language": "python",
   "name": "python3"
  },
  "language_info": {
   "codemirror_mode": {
    "name": "ipython",
    "version": 3
   },
   "file_extension": ".py",
   "mimetype": "text/x-python",
   "name": "python",
   "nbconvert_exporter": "python",
   "pygments_lexer": "ipython3",
   "version": "3.11.5"
  }
 },
 "nbformat": 4,
 "nbformat_minor": 5
}
