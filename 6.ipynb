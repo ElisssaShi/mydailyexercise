{
 "cells": [
  {
   "cell_type": "code",
   "execution_count": 1,
   "id": "b32526b0",
   "metadata": {},
   "outputs": [
    {
     "ename": "NameError",
     "evalue": "name 'init_bar' is not defined",
     "output_type": "error",
     "traceback": [
      "\u001b[1;31m---------------------------------------------------------------------------\u001b[0m",
      "\u001b[1;31mNameError\u001b[0m                                 Traceback (most recent call last)",
      "Cell \u001b[1;32mIn[1], line 1\u001b[0m\n\u001b[1;32m----> 1\u001b[0m init_bar()\n\u001b[0;32m      2\u001b[0m init_ants\n\u001b[0;32m      4\u001b[0m \u001b[38;5;28;01mwhile\u001b[39;00m \u001b[38;5;129;01mnot\u001b[39;00m in_bar_empty():\n",
      "\u001b[1;31mNameError\u001b[0m: name 'init_bar' is not defined"
     ]
    }
   ],
   "source": [
    "init_bar()\n",
    "init_ants\n",
    "\n",
    "while not is_bar_empty():\n",
    "    show_bar()\n",
    "    wait()\n",
    "    update_ants()\n",
    "    update_bar()\n",
    "    "
   ]
  },
  {
   "cell_type": "code",
   "execution_count": 11,
   "id": "f96926ad",
   "metadata": {},
   "outputs": [
    {
     "name": "stdout",
     "output_type": "stream",
     "text": [
      "--------------------------------------------------------------------------------\r"
     ]
    }
   ],
   "source": [
    "from time import sleep\n",
    "\n",
    "bar_length = 80\n",
    "\n",
    "def init_bar(length = 80):\n",
    "    bar = list('-' * length)\n",
    "    return bar\n",
    "\n",
    "def init_ants(bar_length = 80):\n",
    "    ants = list()\n",
    "    ants.append({'position':0, 'direction' : 1})\n",
    "    ants.append({'position' : bar_length - 1, 'direction' : -1})\n",
    "    return ants\n",
    "\n",
    "def update_bar(bar, ants):\n",
    "    clear_bar(bar)\n",
    "    for ant in ants:\n",
    "        if 0 <= ant['position'] < len(bar):\n",
    "            bar[ant['position']] = '*'\n",
    "            \n",
    "def is_bar_empty(bar):\n",
    "    for item in bar:\n",
    "        if not item == '-':\n",
    "            return False\n",
    "    return True\n",
    "\n",
    "def show_bar(bar):\n",
    "    print(''.join(bar),end = '\\r',flush = True)\n",
    "\n",
    "def update_ants(ants):\n",
    "    for ant in ants:\n",
    "        ant['position'] += ant['direction']\n",
    "    \n",
    "def clear_bar(bar):\n",
    "    for i in range(len(bar)):\n",
    "        bar[i] = '-'\n",
    "        \n",
    "init_bar()\n",
    "init_ants()\n",
    "bar = init_bar(bar_length)\n",
    "ants = init_ants(bar_length)\n",
    "update_bar(bar, ants)\n",
    "while not is_bar_empty(bar):\n",
    "    update_bar(bar, ants)\n",
    "    show_bar(bar)\n",
    "    sleep(0.2)\n",
    "    update_ants(ants)"
   ]
  },
  {
   "cell_type": "code",
   "execution_count": 12,
   "id": "0f402d56",
   "metadata": {},
   "outputs": [
    {
     "name": "stdout",
     "output_type": "stream",
     "text": [
      "hello! Zhang San\n"
     ]
    }
   ],
   "source": [
    "class Person:\n",
    "    def set_name(self, name):\n",
    "        self.name = name\n",
    "    \n",
    "    def get_name(self):\n",
    "        return self.name\n",
    "\n",
    "    def greet(self):\n",
    "        print(f'hello! {self.name}')\n",
    "        \n",
    "zs = Person()\n",
    "zs.set_name('Zhang San')\n",
    "zs.greet()"
   ]
  },
  {
   "cell_type": "code",
   "execution_count": 13,
   "id": "93028d4e",
   "metadata": {},
   "outputs": [
    {
     "name": "stdout",
     "output_type": "stream",
     "text": [
      "hello! Zhang San\n"
     ]
    }
   ],
   "source": [
    "Person.greet(zs)"
   ]
  },
  {
   "cell_type": "code",
   "execution_count": 18,
   "id": "b623663a",
   "metadata": {},
   "outputs": [
    {
     "name": "stdout",
     "output_type": "stream",
     "text": [
      "hello! Li Si\n"
     ]
    }
   ],
   "source": [
    "class Person:\n",
    "    def __init__(self, name = None):\n",
    "        self.name = name\n",
    "\n",
    "        \n",
    "    def set_name(self, name):\n",
    "        self.name = name\n",
    "    \n",
    "    def get_name(self):\n",
    "        return self.name\n",
    "\n",
    "    def greet(self):\n",
    "        print(f'hello! {self.name}')\n",
    "        \n",
    "\n",
    "ls = Person('Li Si')\n",
    "ls.greet()\n",
    "\n",
    "unknown = Person()"
   ]
  },
  {
   "cell_type": "code",
   "execution_count": 36,
   "id": "eef1755b",
   "metadata": {},
   "outputs": [],
   "source": [
    "class Person:\n",
    "    def __init__(self, name = None):\n",
    "        self.__name = name\n",
    "\n",
    "        \n",
    "    def set_name(self, name):\n",
    "        if isinstance(name, str):\n",
    "            self.__name = name\n",
    "        raise TypeError('name must be a string')\n",
    "    \n",
    "    def get_name(self) -> str:\n",
    "        return self.__name\n",
    "    \n",
    "    def __do_greet(self):\n",
    "        print(f'hello! {self.__name}')\n",
    "    \n",
    "    def greet(self):\n",
    "        self.__do_greet()\n",
    "        self.__do_greet()"
   ]
  },
  {
   "cell_type": "code",
   "execution_count": 37,
   "id": "e90d54ba",
   "metadata": {},
   "outputs": [],
   "source": [
    "ls = Person()\n",
    "ls.set_name = 3.14159\n"
   ]
  },
  {
   "cell_type": "code",
   "execution_count": 38,
   "id": "a7172fea",
   "metadata": {},
   "outputs": [
    {
     "data": {
      "text/plain": [
       "True"
      ]
     },
     "execution_count": 38,
     "metadata": {},
     "output_type": "execute_result"
    }
   ],
   "source": [
    "isinstance(ls,Person)"
   ]
  },
  {
   "cell_type": "code",
   "execution_count": 34,
   "id": "e309dce3",
   "metadata": {},
   "outputs": [
    {
     "ename": "TypeError",
     "evalue": "isinstance() arg 2 must be a type, a tuple of types, or a union",
     "output_type": "error",
     "traceback": [
      "\u001b[1;31m---------------------------------------------------------------------------\u001b[0m",
      "\u001b[1;31mTypeError\u001b[0m                                 Traceback (most recent call last)",
      "Cell \u001b[1;32mIn[34], line 1\u001b[0m\n\u001b[1;32m----> 1\u001b[0m \u001b[38;5;28misinstance\u001b[39m(Person,ls)\n",
      "\u001b[1;31mTypeError\u001b[0m: isinstance() arg 2 must be a type, a tuple of types, or a union"
     ]
    }
   ],
   "source": [
    "isinstance(Person,ls)"
   ]
  },
  {
   "cell_type": "code",
   "execution_count": 39,
   "id": "db17d336",
   "metadata": {},
   "outputs": [
    {
     "name": "stdout",
     "output_type": "stream",
     "text": [
      "1\n",
      "2\n"
     ]
    }
   ],
   "source": [
    "print('hello'.count('e'))\n",
    "print([1, 2, 'e', 'd', 'e'].count('e'))"
   ]
  },
  {
   "cell_type": "code",
   "execution_count": 40,
   "id": "07968953",
   "metadata": {},
   "outputs": [
    {
     "name": "stdout",
     "output_type": "stream",
     "text": [
      "1\n",
      "2\n"
     ]
    }
   ],
   "source": [
    "my_list = ['hello',[1, 2, 'e', 'd', 'e']]\n",
    "for item in my_list:\n",
    "    print(item.count('e'))"
   ]
  },
  {
   "cell_type": "code",
   "execution_count": 41,
   "id": "d8119a90",
   "metadata": {},
   "outputs": [
    {
     "name": "stdout",
     "output_type": "stream",
     "text": [
      "3\n",
      "helloworld\n"
     ]
    }
   ],
   "source": [
    "print(1+2)\n",
    "print('hello'+'world')"
   ]
  },
  {
   "cell_type": "code",
   "execution_count": 47,
   "id": "3bd7cc77",
   "metadata": {},
   "outputs": [],
   "source": [
    "class Cat:\n",
    "    def talk(self):\n",
    "        print('meow...meow...')\n",
    "        \n",
    "class Dog:\n",
    "    def talk(self):\n",
    "        print('woof...woof...')\n",
    "        \n",
    "        \n",
    "class Turtle:\n",
    "    pass\n"
   ]
  },
  {
   "cell_type": "code",
   "execution_count": 48,
   "id": "465a2754",
   "metadata": {},
   "outputs": [
    {
     "name": "stdout",
     "output_type": "stream",
     "text": [
      "meow...meow...\n",
      "woof...woof...\n",
      "meow...meow...\n",
      "Sorry, I do not talk\n"
     ]
    }
   ],
   "source": [
    "pets = list()\n",
    "pets.append(Cat())\n",
    "pets.append(Dog())\n",
    "pets.append(Cat())\n",
    "pets.append(Turtle())\n",
    "for pet in pets:\n",
    "    if (callable(getattr(pet, 'talk', None))):\n",
    "        pet.talk()\n",
    "    else:\n",
    "        print('Sorry, I do not talk')"
   ]
  },
  {
   "cell_type": "code",
   "execution_count": 50,
   "id": "9d024cf9",
   "metadata": {},
   "outputs": [],
   "source": [
    "class Person:\n",
    "    def set_name(self, name):\n",
    "        self.name = name\n",
    "    \n",
    "    def get_name(self):\n",
    "        return self.name\n",
    "\n",
    "    def greet(self):\n",
    "        print(f'hello! {self.name}')\n",
    "        \n",
    "\n",
    "class Student(Person):\n",
    "    def set_score(self, score):\n",
    "        self.score = score\n",
    "        \n",
    "    def get_score(self):\n",
    "        return self.score\n",
    "\n",
    "    def show_score(self):\n",
    "        print(f'Your score is {self.score}')"
   ]
  },
  {
   "cell_type": "code",
   "execution_count": 53,
   "id": "6a3948a1",
   "metadata": {},
   "outputs": [
    {
     "name": "stdout",
     "output_type": "stream",
     "text": [
      "hello! Zhang San\n",
      "Your score is 99\n"
     ]
    }
   ],
   "source": [
    "st = Student()\n",
    "st.set_name('Zhang San')\n",
    "st.set_score(99)\n",
    "st.greet()\n",
    "st.show_score()"
   ]
  },
  {
   "cell_type": "code",
   "execution_count": 56,
   "id": "023be57a",
   "metadata": {},
   "outputs": [
    {
     "data": {
      "text/plain": [
       "[3, 4]"
      ]
     },
     "execution_count": 56,
     "metadata": {},
     "output_type": "execute_result"
    }
   ],
   "source": [
    "class Filter:\n",
    "    def __init__(self):\n",
    "        self.blocked = [1,2]\n",
    "    \n",
    "    def filter(self, sequence):\n",
    "        return [x for x in sequence if x not in self.blocked]\n",
    "    \n",
    "    \n",
    "f = Filter()\n",
    "f.filter([1,2,3,4])"
   ]
  },
  {
   "cell_type": "code",
   "execution_count": 57,
   "id": "56169db1",
   "metadata": {},
   "outputs": [
    {
     "data": {
      "text/plain": [
       "['hello', 'wprld']"
      ]
     },
     "execution_count": 57,
     "metadata": {},
     "output_type": "execute_result"
    }
   ],
   "source": [
    "class SpamFilter(Filter):\n",
    "    def __init__(self):\n",
    "        self.blocked = ['SPAM']\n",
    "    \n",
    "s = SpamFilter()\n",
    "s.filter(['SPAM', 'SPAM','hello','wprld'])"
   ]
  },
  {
   "cell_type": "code",
   "execution_count": 60,
   "id": "58c12033",
   "metadata": {},
   "outputs": [
    {
     "data": {
      "text/plain": [
       "['hello', 'wprld']"
      ]
     },
     "execution_count": 60,
     "metadata": {},
     "output_type": "execute_result"
    }
   ],
   "source": [
    "class Filter:\n",
    "    def __init__(self):\n",
    "        self.blocked = []\n",
    "        \n",
    "    def add_blocked(self, item):\n",
    "        self.blocked.append(item)\n",
    "    \n",
    "    def filter(self, sequence):\n",
    "        return [x for x in sequence if x not in self.blocked]\n",
    "    \n",
    "s = Filter()\n",
    "s.add_blocked('SPAM')\n",
    "s.filter(['SPAM', 'SPAM','hello','wprld'])"
   ]
  },
  {
   "cell_type": "code",
   "execution_count": 61,
   "id": "3495a936",
   "metadata": {},
   "outputs": [
    {
     "ename": "SyntaxError",
     "evalue": "incomplete input (4087148244.py, line 2)",
     "output_type": "error",
     "traceback": [
      "\u001b[1;36m  Cell \u001b[1;32mIn[61], line 2\u001b[1;36m\u001b[0m\n\u001b[1;33m    @abstractmethod\u001b[0m\n\u001b[1;37m                   ^\u001b[0m\n\u001b[1;31mSyntaxError\u001b[0m\u001b[1;31m:\u001b[0m incomplete input\n"
     ]
    }
   ],
   "source": [
    "from abc import ABC,abstractmethod\n",
    "\n",
    "class Tool(ABC):\n",
    "    @abstractmethod\n",
    "    def work(self):\n",
    "        pass\n",
    "\n",
    "class ScrewDriver(Tool):\n",
    "    def __init__(self, size):\n",
    "        self.size = size\n",
    "    \n",
    "    def work(self):\n",
    "        print('')"
   ]
  },
  {
   "cell_type": "code",
   "execution_count": null,
   "id": "3e27a074",
   "metadata": {},
   "outputs": [],
   "source": []
  }
 ],
 "metadata": {
  "kernelspec": {
   "display_name": "Python 3 (ipykernel)",
   "language": "python",
   "name": "python3"
  },
  "language_info": {
   "codemirror_mode": {
    "name": "ipython",
    "version": 3
   },
   "file_extension": ".py",
   "mimetype": "text/x-python",
   "name": "python",
   "nbconvert_exporter": "python",
   "pygments_lexer": "ipython3",
   "version": "3.11.5"
  }
 },
 "nbformat": 4,
 "nbformat_minor": 5
}
