{
 "cells": [
  {
   "cell_type": "markdown",
   "id": "6c75e586",
   "metadata": {},
   "source": [
    "# leetcode - 2376. 统计特殊整数\n",
    "\n",
    "如果一个正整数每一个数位都是 互不相同 的，我们称它是 特殊整数 。\n",
    "\n",
    "给你一个 正 整数 n ，请你返回区间 [1, n] 之间特殊整数的数目。\n",
    "\n",
    " \n",
    "\n",
    "示例 1：\n",
    "\n",
    "输入：n = 20\n",
    "输出：19\n",
    "解释：1 到 20 之间所有整数除了 11 以外都是特殊整数。所以总共有 19 个特殊整数。\n",
    "示例 2：\n",
    "\n",
    "输入：n = 5\n",
    "输出：5\n",
    "解释：1 到 5 所有整数都是特殊整数。\n",
    "示例 3：\n",
    "\n",
    "输入：n = 135\n",
    "输出：110\n",
    "解释：从 1 到 135 总共有 110 个整数是特殊整数。\n",
    "不特殊的部分数字为：22 ，114 和 131 。\n",
    " \n",
    "\n",
    "提示：\n",
    "\n",
    "1 <= n <= 2 * 109"
   ]
  },
  {
   "cell_type": "markdown",
   "id": "faea84b6",
   "metadata": {},
   "source": [
    "## 我的解决 - 1\n",
    "### 解决思路\n",
    "将1-n的整数创建成1个列表，从0-9看某数字是否有多于两个目标数字，有就删掉，再看列表长度"
   ]
  },
  {
   "cell_type": "markdown",
   "id": "df1777f9",
   "metadata": {},
   "source": [
    "## remove的使用\n",
    "### 基本使用\n",
    "remove() 函数可以「删除」列表中的指定「元素」\n",
    "### 语法\n",
    "list.remove( element )\n",
    "### 参数\n",
    "element ：（必选）任意数据类型（数字、字符串、列表等）\n",
    "### 返回值\n",
    "修改原列表后，返回 None，\n",
    "### 实例：删除列表中的元素\n",
    "list1 = [1, 2, 3, 4]\n",
    "\n",
    "print('删除前：', list1)\n",
    "\n",
    "list1.remove(2)\n",
    "\n",
    "print('删除前：', list1)\n",
    "\n",
    "运行\n",
    "\n",
    "输出：\n",
    "\n",
    "删除前： [1, 2, 3, 4]\n",
    "\n",
    "删除前： [1, 3, 4]\n"
   ]
  },
  {
   "cell_type": "code",
   "execution_count": 54,
   "id": "b6db12d6",
   "metadata": {},
   "outputs": [],
   "source": [
    "class Solution(object):\n",
    "    def countSpecialNumbers(self, n):\n",
    "        \"\"\"\n",
    "        :type n: int\n",
    "        :rtype: int\n",
    "        \"\"\"\n",
    "        n = 10\n",
    "        targetlist = list(range(1,(n+1)))\n",
    "        for i in range(10):\n",
    "            len_rest = len(targetlist)\n",
    "            renewlist = targetlist\n",
    "            for j in range(len_rest):\n",
    "                num_now = targetlist[j]\n",
    "                num_list = list(num_now)\n",
    "                num_count = num_list.count(i)\n",
    "                if i > 1:\n",
    "                    renewlist.remove(j)\n",
    "            \n",
    "        "
   ]
  },
  {
   "cell_type": "markdown",
   "id": "ef78da54",
   "metadata": {},
   "source": [
    "## 使用range的注意事项\n",
    "1. 不声明这玩意是list，python会直接给你当成list写，但与r不同，直接打出来不会直接运算\n",
    "2. 使用方法：range(a,b)，中间不是:，和r不一样\n",
    "3. 代码实例"
   ]
  },
  {
   "cell_type": "code",
   "execution_count": 15,
   "id": "705463c3",
   "metadata": {},
   "outputs": [
    {
     "data": {
      "text/plain": [
       "[1, 2, 3, 4, 5, 6, 7, 8, 9, 10]"
      ]
     },
     "execution_count": 15,
     "metadata": {},
     "output_type": "execute_result"
    }
   ],
   "source": [
    "n = 10\n",
    "\n",
    "targetlist= list(range(1,(n+1)))\n",
    "\n",
    "targetlist"
   ]
  },
  {
   "cell_type": "code",
   "execution_count": 116,
   "id": "a9e97da0",
   "metadata": {},
   "outputs": [
    {
     "name": "stdout",
     "output_type": "stream",
     "text": [
      "14\n"
     ]
    }
   ],
   "source": [
    "n = 15\n",
    "targetlist = list(range(1,(n+1)))\n",
    "for i in range(10):\n",
    "    len_rest = len(targetlist)\n",
    "    renewlist = targetlist.copy()\n",
    "    for j in range(len_rest):\n",
    "        num_now = targetlist[j]\n",
    "        num_list = list(str(num_now))\n",
    "        num_count = num_list.count(str(i))\n",
    "        if num_count > 1:\n",
    "             renewlist.remove(num_now)\n",
    "    targetlist = renewlist.copy()\n",
    "\n",
    "result = len(targetlist)\n",
    "print(result)"
   ]
  },
  {
   "cell_type": "code",
   "execution_count": 115,
   "id": "08be7c22",
   "metadata": {},
   "outputs": [
    {
     "name": "stdout",
     "output_type": "stream",
     "text": [
      "9477\n"
     ]
    }
   ],
   "source": [
    "n = 10000\n",
    "targetlist = list(range(1,(n+1)))\n",
    "i = 2\n",
    "len_rest = len(targetlist)\n",
    "renewlist = targetlist.copy()\n",
    "for j in range(len_rest):\n",
    "    num_now = targetlist[j]\n",
    "    num_list = list(str(num_now))\n",
    "    num_count = num_list.count(str(i))\n",
    "    if num_count > 1:\n",
    "        renewlist.remove(num_now)\n",
    "targetlist = renewlist.copy()\n",
    "result = len(targetlist)\n",
    "print(result)"
   ]
  },
  {
   "cell_type": "code",
   "execution_count": 45,
   "id": "5eb83fa6",
   "metadata": {},
   "outputs": [
    {
     "name": "stdout",
     "output_type": "stream",
     "text": [
      "['1', '0', '0']\n"
     ]
    },
    {
     "data": {
      "text/plain": [
       "2"
      ]
     },
     "execution_count": 45,
     "metadata": {},
     "output_type": "execute_result"
    }
   ],
   "source": [
    "print(num_list)\n",
    "num_list.count(str(0))"
   ]
  },
  {
   "cell_type": "code",
   "execution_count": 24,
   "id": "543bf2a5",
   "metadata": {},
   "outputs": [
    {
     "ename": "IndexError",
     "evalue": "list index out of range",
     "output_type": "error",
     "traceback": [
      "\u001b[1;31m---------------------------------------------------------------------------\u001b[0m",
      "\u001b[1;31mIndexError\u001b[0m                                Traceback (most recent call last)",
      "Cell \u001b[1;32mIn[24], line 1\u001b[0m\n\u001b[1;32m----> 1\u001b[0m targetlist[\u001b[38;5;241m10\u001b[39m]\n",
      "\u001b[1;31mIndexError\u001b[0m: list index out of range"
     ]
    }
   ],
   "source": [
    "targetlist[10]"
   ]
  },
  {
   "cell_type": "code",
   "execution_count": 25,
   "id": "dff8cbaf",
   "metadata": {},
   "outputs": [
    {
     "data": {
      "text/plain": [
       "range(0, 10)"
      ]
     },
     "execution_count": 25,
     "metadata": {},
     "output_type": "execute_result"
    }
   ],
   "source": [
    "range(len_rest)"
   ]
  },
  {
   "cell_type": "code",
   "execution_count": 26,
   "id": "da661f82",
   "metadata": {},
   "outputs": [
    {
     "name": "stdout",
     "output_type": "stream",
     "text": [
      "0\n",
      "1\n",
      "2\n",
      "3\n",
      "4\n",
      "5\n",
      "6\n",
      "7\n",
      "8\n",
      "9\n"
     ]
    }
   ],
   "source": [
    "for j in range(len_rest):\n",
    "    print(j)"
   ]
  },
  {
   "cell_type": "markdown",
   "id": "c602dfcb",
   "metadata": {},
   "source": [
    "## 注意\n",
    "- python直接的等号更像是确定了变量的指针指向，对存储的变量没有影响。如果想要copy存储的变量要用.copy"
   ]
  },
  {
   "cell_type": "markdown",
   "id": "3b02017f",
   "metadata": {},
   "source": [
    "## 我的思路的错误\n",
    "\n",
    "1. 特殊数字的个数远远大于非特殊数字，导致如果删除按每一个数推算的非特殊数字，和遍历每一个数，讨论此数是否特殊的计算量是相似的。因此不应该使用这个方法。\n",
    "2. 对于多于10^10的情况，这部分数字都是非特殊数，所以可以直接排除"
   ]
  },
  {
   "cell_type": "markdown",
   "id": "a0c02d33",
   "metadata": {},
   "source": [
    "## leetcode上的优秀方法\n",
    "思路\n",
    "为了高效地计算 [1, n] 区间内的特殊整数数量，直接遍历每个数字并检查其是否为特殊整数的时间复杂度为 O(n * d)（其中 d 是数字的位数），这在 n 较大时会导致性能问题。因此，我们需要一种更高效的方法。\n",
    "组合数学\n",
    "我们可以将问题分解为以下两个部分：\n",
    "﻿\n",
    "计算位数少于 n 的所有特殊整数数量。\n",
    "计算与 n 位数相同且不超过 n 的特殊整数数量。\n",
    "﻿\n",
    "通过将这两部分的结果相加，就能得到最终的答案。\n",
    "﻿\n",
    "1. 计算位数少于 n 的所有特殊整数数量\n",
    "假设 n 有 D 位数字。首先，我们需要计算所有位数少于 D 的特殊整数数量。具体步骤如下：\n",
    "﻿\n",
    "对于 k 位数（1 ≤ k < D）：\n",
    "第一位数字不能为 0，有 9 种选择（1-9）。\n",
    "第二位数字可以是 0-9 中未被选中的 9 个数字。\n",
    "第三位数字可以是 0-9 中未被选中的 8 个数字。\n",
    "以此类推。\n",
    "因此，对于 k 位数，特殊整数的数量为：\n",
    "9×9×8×⋯×(10−k+1)\n",
    "这个数量可以通过排列数公式 P(m, k) = m × (m-1) × ... × (m - k + 1) 计算得到。\n",
    "2. 计算与 n 位数相同且不超过 n 的特殊整数数量\n",
    "这一步需要精确计算与 n 位数相同且不超过 n 的特殊整数数量。具体步骤如下：\n",
    "﻿\n",
    "1.将 n 转换为字符串，便于逐位处理。\n",
    "2.使用位掩码记录已经使用过的数字，防止重复。\n",
    "3.从高位到低位逐位遍历 n 的每一位：\n",
    "对于当前位，枚举所有比该位数字小且未被使用过的数字，计算这些数字作为当前位时，剩余位数的所有可能组合数。\n",
    "如果当前位数字已经被使用过，则停止进一步的枚举，因为后续的数字将无法形成不重复的组合。\n",
    "4.如果 n 本身是一个特殊整数（即所有位数字都不重复），则将其计入总数。\n",
    "通过以上两部分的计算，我们可以得到 [1, n] 内所有特殊整数的总数。\n",
    "﻿\n",
    "\n",
    "\n",
    "作者：时雨\n",
    "链接：https://leetcode.cn/problems/count-special-integers/solutions/2923617/zu-he-shu-xue-jie-jue-ji-bai-100-by-shiy-j5sf/\n",
    "来源：力扣（LeetCode）\n",
    "著作权归作者所有。商业转载请联系作者获得授权，非商业转载请注明出处。"
   ]
  },
  {
   "cell_type": "markdown",
   "id": "58a1ffda",
   "metadata": {},
   "source": [
    "## 代码实现"
   ]
  },
  {
   "cell_type": "code",
   "execution_count": 138,
   "id": "5761cf0b",
   "metadata": {},
   "outputs": [],
   "source": [
    "import math\n",
    "n = 150\n",
    "len_end = len(list(str(n)))\n",
    "listn = list(str(n))"
   ]
  },
  {
   "cell_type": "code",
   "execution_count": 139,
   "id": "07aec6e8",
   "metadata": {},
   "outputs": [],
   "source": [
    "def antifac(n):\n",
    "    count = n\n",
    "    result = 1\n",
    "    j = 9\n",
    "    while count>=1:\n",
    "        result = result*j\n",
    "        j = j-1\n",
    "        count = count-1\n",
    "    return result "
   ]
  },
  {
   "cell_type": "code",
   "execution_count": 140,
   "id": "09616b69",
   "metadata": {},
   "outputs": [
    {
     "data": {
      "text/plain": [
       "72"
      ]
     },
     "execution_count": 140,
     "metadata": {},
     "output_type": "execute_result"
    }
   ],
   "source": [
    "antifac(2)"
   ]
  },
  {
   "cell_type": "code",
   "execution_count": 142,
   "id": "8b6b1aee",
   "metadata": {},
   "outputs": [
    {
     "data": {
      "text/plain": [
       "126"
      ]
     },
     "execution_count": 142,
     "metadata": {},
     "output_type": "execute_result"
    }
   ],
   "source": [
    "n = 150\n",
    "if n >= 10**11:\n",
    "    count = 9\n",
    "    for i in range(1,9):\n",
    "        count = 9*antifac(i) + count\n",
    "    result = count\n",
    "elif n <= 9:\n",
    "    result = n\n",
    "else:\n",
    "    # 计算不超过n的位数时特殊数字个数\n",
    "    count = 9\n",
    "    for i in range(1,len_end-1):\n",
    "        count = 9*antifac(i) + count\n",
    "    # 计算刚好n位时\n",
    "    j = 0#所在列表位置\n",
    "    num_now = int(listn[j])\n",
    "    count_first = 0\n",
    "    if listn[j] < 1\n",
    "    \n",
    "    for k in range(1,num_now):\n",
    "        count_first = count_first + 1\n",
    "    count = count_first*antifac(len_end-j-1) + count\n",
    "    list_before = list(listn[j])\n",
    "    j = j + 1\n",
    "    while j<len_end:\n",
    "        count_first = 0\n",
    "        num_now = int(listn[j])\n",
    "        for k in range(1,num_now):\n",
    "            if j in list_before:\n",
    "                continue\n",
    "            else:\n",
    "                count_first = count_first + 1\n",
    "        if j < len_end-1:\n",
    "            count = count_first*antifac(len_end-j-1) + count\n",
    "        else:\n",
    "            count = count_first + count\n",
    "        list_before.append(listn[j])\n",
    "        j = j + 1\n",
    "    result = count\n",
    "result\n",
    "        "
   ]
  },
  {
   "cell_type": "code",
   "execution_count": 150,
   "id": "5a24fbe6",
   "metadata": {},
   "outputs": [
    {
     "data": {
      "text/plain": [
       "range(1, 1)"
      ]
     },
     "execution_count": 150,
     "metadata": {},
     "output_type": "execute_result"
    }
   ],
   "source": [
    "k = range(1,1)\n",
    "k"
   ]
  },
  {
   "cell_type": "code",
   "execution_count": 149,
   "id": "6579ae63",
   "metadata": {},
   "outputs": [
    {
     "data": {
      "text/plain": [
       "18"
      ]
     },
     "execution_count": 149,
     "metadata": {},
     "output_type": "execute_result"
    }
   ],
   "source": [
    "count = 9\n",
    "a = 3\n",
    "for i in range(1,a-1):\n",
    "    count = 9*antifac(i-1) + count\n",
    "count"
   ]
  },
  {
   "cell_type": "code",
   "execution_count": 97,
   "id": "af77b5e4",
   "metadata": {},
   "outputs": [
    {
     "name": "stdout",
     "output_type": "stream",
     "text": [
      "None\n"
     ]
    }
   ],
   "source": [
    "print(list_before)\n"
   ]
  },
  {
   "cell_type": "code",
   "execution_count": 101,
   "id": "97ab34f2",
   "metadata": {},
   "outputs": [
    {
     "data": {
      "text/plain": [
       "['1']"
      ]
     },
     "execution_count": 101,
     "metadata": {},
     "output_type": "execute_result"
    }
   ],
   "source": [
    "j = 0\n",
    "list(listn[j])"
   ]
  },
  {
   "cell_type": "code",
   "execution_count": 99,
   "id": "d3174647",
   "metadata": {},
   "outputs": [
    {
     "data": {
      "text/plain": [
       "['1', '0', '0', '0', '0']"
      ]
     },
     "execution_count": 99,
     "metadata": {},
     "output_type": "execute_result"
    }
   ],
   "source": [
    "listn"
   ]
  },
  {
   "cell_type": "code",
   "execution_count": 103,
   "id": "869b5da1",
   "metadata": {},
   "outputs": [],
   "source": [
    "count = 9\n",
    "for i in range(1,len_end-1):\n",
    "    count = 9*antifac(i) + count\n",
    "    # 计算刚好n位时\n",
    "j = 0#所在列表位置\n",
    "num_now = int(listn[j])\n",
    "count_first = 0"
   ]
  },
  {
   "cell_type": "code",
   "execution_count": 104,
   "id": "47f87fea",
   "metadata": {},
   "outputs": [
    {
     "data": {
      "text/plain": [
       "1"
      ]
     },
     "execution_count": 104,
     "metadata": {},
     "output_type": "execute_result"
    }
   ],
   "source": [
    "num_now"
   ]
  },
  {
   "cell_type": "code",
   "execution_count": 110,
   "id": "e035cca9",
   "metadata": {},
   "outputs": [],
   "source": [
    "count = 9\n",
    "for i in range(1,len_end-1):\n",
    "    count = 9*antifac(i) + count\n",
    "    # 计算刚好n位时\n",
    "j = 0#所在列表位置\n",
    "num_now = int(listn[j])\n",
    "count_first = 0\n",
    "for k in range(1,num_now):\n",
    "    count_first = count_first + 1\n",
    "count = count_first*antifac(len_end-j-1) + count\n",
    "list_before = list(listn[j])\n",
    "j = j + 1"
   ]
  },
  {
   "cell_type": "code",
   "execution_count": 112,
   "id": "c8b076bf",
   "metadata": {},
   "outputs": [
    {
     "data": {
      "text/plain": [
       "5274"
      ]
     },
     "execution_count": 112,
     "metadata": {},
     "output_type": "execute_result"
    }
   ],
   "source": [
    "count"
   ]
  },
  {
   "cell_type": "code",
   "execution_count": 114,
   "id": "8ad5b0db",
   "metadata": {},
   "outputs": [
    {
     "data": {
      "text/plain": [
       "5274"
      ]
     },
     "execution_count": 114,
     "metadata": {},
     "output_type": "execute_result"
    }
   ],
   "source": [
    "9*9*8*7+9*9*8+9*9+9"
   ]
  },
  {
   "cell_type": "markdown",
   "id": "a4d4a80c",
   "metadata": {},
   "source": [
    "## 下次一定要从简单题开始做！"
   ]
  },
  {
   "cell_type": "code",
   "execution_count": 151,
   "id": "62b8c703",
   "metadata": {},
   "outputs": [
    {
     "name": "stdout",
     "output_type": "stream",
     "text": [
      "C:\\Users\\Eunice\n"
     ]
    }
   ],
   "source": [
    "import os\n",
    "print(os.path.abspath('.'))\n"
   ]
  },
  {
   "cell_type": "code",
   "execution_count": null,
   "id": "d0e2135d",
   "metadata": {},
   "outputs": [],
   "source": []
  }
 ],
 "metadata": {
  "kernelspec": {
   "display_name": "Python 3 (ipykernel)",
   "language": "python",
   "name": "python3"
  },
  "language_info": {
   "codemirror_mode": {
    "name": "ipython",
    "version": 3
   },
   "file_extension": ".py",
   "mimetype": "text/x-python",
   "name": "python",
   "nbconvert_exporter": "python",
   "pygments_lexer": "ipython3",
   "version": "3.11.5"
  }
 },
 "nbformat": 4,
 "nbformat_minor": 5
}
