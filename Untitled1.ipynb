{
 "cells": [
  {
   "cell_type": "markdown",
   "id": "3fa5369e",
   "metadata": {},
   "source": [
    "# leetcode-2. 两数相加\n",
    "\n",
    "\n",
    "给你两个 非空 的链表，表示两个非负的整数。它们每位数字都是按照 逆序 的方式存储的，并且每个节点只能存储 一位 数字。\n",
    "\n",
    "请你将两个数相加，并以相同形式返回一个表示和的链表。\n",
    "\n",
    "你可以假设除了数字 0 之外，这两个数都不会以 0 开头。\n",
    "\n",
    " \n",
    "\n",
    "\n",
    "\n"
   ]
  },
  {
   "cell_type": "code",
   "execution_count": 19,
   "id": "48eed55f",
   "metadata": {},
   "outputs": [],
   "source": [
    "l1 = [9,9,9,9] \n",
    "l2 = [9,9,9,9]\n",
    "len1 = len(l1)\n",
    "len2 = len(l2)\n",
    "if len1 > len2:\n",
    "    bigger = l1\n",
    "    smaller = l2\n",
    "    lenb = len1\n",
    "    lens = len2\n",
    "else:\n",
    "    bigger = l2\n",
    "    smaller = l1\n",
    "    lenb = len2\n",
    "    lens = len1\n",
    "bigger.reverse()\n",
    "smaller.reverse()"
   ]
  },
  {
   "cell_type": "code",
   "execution_count": 20,
   "id": "75ecb377",
   "metadata": {},
   "outputs": [
    {
     "data": {
      "text/plain": [
       "int"
      ]
     },
     "execution_count": 20,
     "metadata": {},
     "output_type": "execute_result"
    }
   ],
   "source": [
    "type(l1[-1])"
   ]
  },
  {
   "cell_type": "code",
   "execution_count": 21,
   "id": "8c9e3e0a",
   "metadata": {},
   "outputs": [],
   "source": [
    "def addf(a , b ,c):\n",
    "    anb = a+b+c\n",
    "    nextone = anb//10\n",
    "    nowone = anb%10\n",
    "    return nextone ,nowone"
   ]
  },
  {
   "cell_type": "code",
   "execution_count": 22,
   "id": "01b17a41",
   "metadata": {},
   "outputs": [
    {
     "name": "stdout",
     "output_type": "stream",
     "text": [
      "[1, 9, 9, 9, 8]\n"
     ]
    }
   ],
   "source": [
    "nextone = 0\n",
    "result = list()\n",
    "for i in range(lens):\n",
    "    nextone,nowone = addf(bigger[i],smaller[i],nextone)\n",
    "    result.append(nowone)\n",
    "if lenb == lens:\n",
    "    if nextone > 0:\n",
    "        result.append(nextone)\n",
    "else:\n",
    "    for i in range(lens,lenb):\n",
    "        nextone,nowone = addf(bigger[i],0,nextone)\n",
    "        result.append(nowone)\n",
    "    if nextone > 0:\n",
    "        result.append(nextone)\n",
    "\n",
    "result.reverse()\n",
    "print(result)"
   ]
  },
  {
   "cell_type": "code",
   "execution_count": 23,
   "id": "dde546b9",
   "metadata": {},
   "outputs": [
    {
     "data": {
      "text/plain": [
       "19998"
      ]
     },
     "execution_count": 23,
     "metadata": {},
     "output_type": "execute_result"
    }
   ],
   "source": [
    "9999+9999"
   ]
  },
  {
   "cell_type": "code",
   "execution_count": null,
   "id": "3fb0d9c8",
   "metadata": {},
   "outputs": [],
   "source": [
    "dummy = ListNode(0)\n",
    "node = dummy\n",
    "carrier = 0\n",
    "while l1 or l2 or carrier:\n",
    "    sum = (l1.var if l1 else 0) + (l2.var if l1 else 0) + carrier\n",
    "    node.next = ListNode(sum % 10)\n",
    "    node = node.next\n",
    "    carrier = sum // 10\n",
    "    if l1: l1 = l1.next\n",
    "    if l2: l2 = l2.next\n",
    "return dummy.next\n"
   ]
  }
 ],
 "metadata": {
  "kernelspec": {
   "display_name": "Python 3 (ipykernel)",
   "language": "python",
   "name": "python3"
  },
  "language_info": {
   "codemirror_mode": {
    "name": "ipython",
    "version": 3
   },
   "file_extension": ".py",
   "mimetype": "text/x-python",
   "name": "python",
   "nbconvert_exporter": "python",
   "pygments_lexer": "ipython3",
   "version": "3.11.5"
  }
 },
 "nbformat": 4,
 "nbformat_minor": 5
}
