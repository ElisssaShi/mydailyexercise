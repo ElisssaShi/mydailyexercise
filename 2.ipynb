{
 "cells": [
  {
   "cell_type": "code",
   "execution_count": 2,
   "id": "4ec8c997",
   "metadata": {},
   "outputs": [
    {
     "name": "stdout",
     "output_type": "stream",
     "text": [
      "1*1=1\t1*2=2\t1*3=3\t1*4=4\t1*5=5\t1*6=6\t1*7=7\t1*8=8\t1*9=9\t\n",
      "\t2*2=4\t2*3=6\t2*4=8\t2*5=10\t2*6=12\t2*7=14\t2*8=16\t2*9=18\t\n",
      "\t\t3*3=9\t3*4=12\t3*5=15\t3*6=18\t3*7=21\t3*8=24\t3*9=27\t\n",
      "\t\t\t4*4=16\t4*5=20\t4*6=24\t4*7=28\t4*8=32\t4*9=36\t\n",
      "\t\t\t\t5*5=25\t5*6=30\t5*7=35\t5*8=40\t5*9=45\t\n",
      "\t\t\t\t\t6*6=36\t6*7=42\t6*8=48\t6*9=54\t\n",
      "\t\t\t\t\t\t7*7=49\t7*8=56\t7*9=63\t\n",
      "\t\t\t\t\t\t\t8*8=64\t8*9=72\t\n",
      "\t\t\t\t\t\t\t\t9*9=81\t\n"
     ]
    }
   ],
   "source": [
    "for x in range(1, 10):\n",
    "    for y in range(1,10):\n",
    "        if (x <= y) :\n",
    "            print(f'{x}*{y}={x*y}',end = '\\t')\n",
    "        else:\n",
    "            print('',end = '\\t')\n",
    "    print('',end = '\\n')"
   ]
  },
  {
   "cell_type": "code",
   "execution_count": 3,
   "id": "68b866d3",
   "metadata": {},
   "outputs": [],
   "source": [
    "a = list(range(10))"
   ]
  },
  {
   "cell_type": "code",
   "execution_count": 4,
   "id": "2065be10",
   "metadata": {},
   "outputs": [],
   "source": [
    "del a[0]"
   ]
  },
  {
   "cell_type": "code",
   "execution_count": 5,
   "id": "a0998c40",
   "metadata": {},
   "outputs": [
    {
     "data": {
      "text/plain": [
       "[1, 2, 3, 4, 5, 6, 7, 8, 9]"
      ]
     },
     "execution_count": 5,
     "metadata": {},
     "output_type": "execute_result"
    }
   ],
   "source": [
    "a"
   ]
  },
  {
   "cell_type": "code",
   "execution_count": 6,
   "id": "e08abaa8",
   "metadata": {},
   "outputs": [],
   "source": [
    "b = a"
   ]
  },
  {
   "cell_type": "code",
   "execution_count": 7,
   "id": "d9e81b30",
   "metadata": {},
   "outputs": [],
   "source": [
    "b.append(10)"
   ]
  },
  {
   "cell_type": "code",
   "execution_count": 8,
   "id": "52dc3b40",
   "metadata": {},
   "outputs": [
    {
     "data": {
      "text/plain": [
       "[1, 2, 3, 4, 5, 6, 7, 8, 9, 10]"
      ]
     },
     "execution_count": 8,
     "metadata": {},
     "output_type": "execute_result"
    }
   ],
   "source": [
    "a"
   ]
  },
  {
   "cell_type": "code",
   "execution_count": 9,
   "id": "73436b4a",
   "metadata": {},
   "outputs": [
    {
     "data": {
      "text/plain": [
       "[1, 2, 3, 4, 5, 6, 7, 8, 9, 10]"
      ]
     },
     "execution_count": 9,
     "metadata": {},
     "output_type": "execute_result"
    }
   ],
   "source": [
    "b"
   ]
  },
  {
   "cell_type": "code",
   "execution_count": 10,
   "id": "f40d916a",
   "metadata": {},
   "outputs": [],
   "source": [
    "b = a"
   ]
  },
  {
   "cell_type": "code",
   "execution_count": 11,
   "id": "2b8b87f3",
   "metadata": {},
   "outputs": [],
   "source": [
    "b[0] = 100"
   ]
  },
  {
   "cell_type": "code",
   "execution_count": 12,
   "id": "86d6c938",
   "metadata": {},
   "outputs": [
    {
     "data": {
      "text/plain": [
       "[100, 2, 3, 4, 5, 6, 7, 8, 9, 10]"
      ]
     },
     "execution_count": 12,
     "metadata": {},
     "output_type": "execute_result"
    }
   ],
   "source": [
    "a"
   ]
  },
  {
   "cell_type": "code",
   "execution_count": 13,
   "id": "b09d810c",
   "metadata": {},
   "outputs": [],
   "source": [
    "a = [1,2,3,4]"
   ]
  },
  {
   "cell_type": "code",
   "execution_count": 14,
   "id": "961262a1",
   "metadata": {},
   "outputs": [],
   "source": [
    "b = a.copy()"
   ]
  },
  {
   "cell_type": "code",
   "execution_count": 15,
   "id": "92803114",
   "metadata": {},
   "outputs": [
    {
     "data": {
      "text/plain": [
       "[1, 2, 3, 4]"
      ]
     },
     "execution_count": 15,
     "metadata": {},
     "output_type": "execute_result"
    }
   ],
   "source": [
    "b"
   ]
  },
  {
   "cell_type": "code",
   "execution_count": 16,
   "id": "dd15ee0c",
   "metadata": {},
   "outputs": [],
   "source": [
    "a = [1,2,[3,4]]"
   ]
  },
  {
   "cell_type": "code",
   "execution_count": 17,
   "id": "1fb55a15",
   "metadata": {},
   "outputs": [],
   "source": [
    "b = a.copy()"
   ]
  },
  {
   "cell_type": "code",
   "execution_count": 18,
   "id": "720bd758",
   "metadata": {},
   "outputs": [],
   "source": [
    "b[0] = 3"
   ]
  },
  {
   "cell_type": "code",
   "execution_count": 19,
   "id": "45a1e512",
   "metadata": {},
   "outputs": [
    {
     "name": "stdout",
     "output_type": "stream",
     "text": [
      "[1, 2, [3, 4]] [3, 2, [3, 4]]\n"
     ]
    }
   ],
   "source": [
    "print(a,b)"
   ]
  },
  {
   "cell_type": "code",
   "execution_count": 20,
   "id": "99d20338",
   "metadata": {},
   "outputs": [],
   "source": [
    "b[2][0] = 5"
   ]
  },
  {
   "cell_type": "code",
   "execution_count": 21,
   "id": "0b743479",
   "metadata": {},
   "outputs": [
    {
     "name": "stdout",
     "output_type": "stream",
     "text": [
      "[1, 2, [5, 4]] [3, 2, [5, 4]]\n"
     ]
    }
   ],
   "source": [
    "print(a,b)"
   ]
  },
  {
   "cell_type": "code",
   "execution_count": 23,
   "id": "069c10a1",
   "metadata": {},
   "outputs": [
    {
     "name": "stdout",
     "output_type": "stream",
     "text": [
      "[1, 2, [3, 4]] [1, 2, [30, 4]]\n"
     ]
    }
   ],
   "source": [
    "from copy import deepcopy\n",
    "a = [1, 2, [3, 4]]\n",
    "b = deepcopy(a)\n",
    "b[2][0] = 30\n",
    "print(a, b)"
   ]
  },
  {
   "cell_type": "code",
   "execution_count": 24,
   "id": "cff0a4c1",
   "metadata": {},
   "outputs": [
    {
     "name": "stdout",
     "output_type": "stream",
     "text": [
      "[1, 2, [3, 4], [1, 2]]\n"
     ]
    }
   ],
   "source": [
    "a.append([1,2])\n",
    "print(a)"
   ]
  },
  {
   "cell_type": "code",
   "execution_count": 25,
   "id": "b5684877",
   "metadata": {},
   "outputs": [
    {
     "name": "stdout",
     "output_type": "stream",
     "text": [
      "[1, 2, [3, 4], [1, 2], 1, 2]\n"
     ]
    }
   ],
   "source": [
    "a.extend([1,2])\n",
    "print(a)"
   ]
  },
  {
   "cell_type": "markdown",
   "id": "1f46752a",
   "metadata": {},
   "source": [
    "a += b与a = a + b不等价"
   ]
  },
  {
   "cell_type": "code",
   "execution_count": 26,
   "id": "3cc12c1f",
   "metadata": {},
   "outputs": [
    {
     "name": "stdout",
     "output_type": "stream",
     "text": [
      "[1, 2, 3, 4, 5, 6] [1, 2, 3, 4, 5, 6]\n"
     ]
    }
   ],
   "source": [
    "a = [1,2,3,4]\n",
    "b = [5,6]\n",
    "a1 = a\n",
    "a += b\n",
    "print(a, a1)"
   ]
  },
  {
   "cell_type": "code",
   "execution_count": 27,
   "id": "85f5986d",
   "metadata": {},
   "outputs": [
    {
     "name": "stdout",
     "output_type": "stream",
     "text": [
      "[1, 2, 3, 4, 5, 6] [1, 2, 3, 4]\n"
     ]
    }
   ],
   "source": [
    "a = [1,2,3,4]\n",
    "b = [5,6]\n",
    "a1 = a\n",
    "a = a + b\n",
    "print(a, a1)"
   ]
  },
  {
   "cell_type": "code",
   "execution_count": 28,
   "id": "b11cae38",
   "metadata": {},
   "outputs": [
    {
     "name": "stdout",
     "output_type": "stream",
     "text": [
      "None\n"
     ]
    }
   ],
   "source": [
    "a = b.reverse()\n",
    "print(a)"
   ]
  },
  {
   "cell_type": "code",
   "execution_count": 29,
   "id": "dad96195",
   "metadata": {},
   "outputs": [
    {
     "name": "stdout",
     "output_type": "stream",
     "text": [
      "[6, 5]\n"
     ]
    }
   ],
   "source": [
    "print(b)"
   ]
  },
  {
   "cell_type": "code",
   "execution_count": 30,
   "id": "7b5fe016",
   "metadata": {},
   "outputs": [
    {
     "name": "stdout",
     "output_type": "stream",
     "text": [
      "hello\n"
     ]
    }
   ],
   "source": [
    "a = 'hello'\n",
    "a.upper()\n",
    "print(a)"
   ]
  },
  {
   "cell_type": "code",
   "execution_count": 31,
   "id": "63817414",
   "metadata": {},
   "outputs": [
    {
     "name": "stdout",
     "output_type": "stream",
     "text": [
      "HELLO\n"
     ]
    }
   ],
   "source": [
    "print('hello'.upper())"
   ]
  },
  {
   "cell_type": "markdown",
   "id": "a7766b7f",
   "metadata": {},
   "source": [
    "'hello'为字符串，本身不可改"
   ]
  },
  {
   "cell_type": "code",
   "execution_count": 32,
   "id": "b7e2f805",
   "metadata": {},
   "outputs": [
    {
     "name": "stdout",
     "output_type": "stream",
     "text": [
      "[93, 95, 49, 40, 87, 97, 31, 19, 99, 45, 11, 7, 0, 50, 55, 6, 26, 87, 51, 95, 36, 72, 33, 29, 46, 69, 0, 23, 45, 50, 15, 98, 2, 61, 4, 14, 86, 31, 27, 26, 89, 13, 42, 77, 8, 43, 87, 11, 57, 33, 15, 28, 62, 85, 36, 53, 31, 17, 48, 23, 76, 46, 57, 23, 15, 54, 82, 73, 36, 21, 19, 33, 11, 14, 49, 34, 7, 93, 36, 90, 66, 24, 24, 99, 2, 60, 26, 96, 28, 68, 6, 15, 25, 13, 46, 64, 48, 15, 1, 64]\n"
     ]
    }
   ],
   "source": [
    "import random\n",
    "a = list()\n",
    "for x in range(100):\n",
    "    a.append(random.randint(0, 100))\n",
    "print(a)"
   ]
  },
  {
   "cell_type": "code",
   "execution_count": 33,
   "id": "2eddd1b7",
   "metadata": {},
   "outputs": [
    {
     "name": "stdout",
     "output_type": "stream",
     "text": [
      "[80, 81, 71, 53, 62, 28, 53, 97, 55, 54, 75, 38, 10, 68, 30, 32, 2, 6, 18, 39, 99, 25, 16, 63, 42, 1, 59, 36, 82, 30, 63, 83, 48, 44, 71, 97, 13, 19, 82, 46, 61, 41, 89, 93, 92, 43, 6, 64, 49, 97, 81, 80, 17, 97, 93, 9, 94, 52, 43, 89, 83, 93, 49, 4, 51, 39, 24, 1, 81, 57, 77, 1, 45, 24, 28, 90, 35, 13, 61, 71, 79, 38, 41, 12, 98, 42, 66, 32, 70, 23, 82, 33, 44, 22, 79, 42, 90, 37, 95, 18]\n"
     ]
    }
   ],
   "source": [
    "import random\n",
    "a = [None] * 100\n",
    "for x in range(100):\n",
    "    a[x] = random.randint(0, 100)\n",
    "print(a)"
   ]
  },
  {
   "cell_type": "code",
   "execution_count": 35,
   "id": "0baa63a7",
   "metadata": {},
   "outputs": [
    {
     "name": "stdout",
     "output_type": "stream",
     "text": [
      "154\n"
     ]
    }
   ],
   "source": [
    "day = 3\n",
    "month = 6\n",
    "daylist = [31,28,31,30,31,30,31,31,30,31,30,31]\n",
    "count = day + sum(daylist[0:month-1])\n",
    "print(count)"
   ]
  },
  {
   "cell_type": "markdown",
   "id": "89b73be6",
   "metadata": {},
   "source": [
    "if 0 <= x <= 100:"
   ]
  },
  {
   "cell_type": "code",
   "execution_count": 36,
   "id": "5a8f4fcf",
   "metadata": {},
   "outputs": [
    {
     "name": "stdout",
     "output_type": "stream",
     "text": [
      "[1, 2, 3, 4]\n"
     ]
    }
   ],
   "source": [
    "a = list(range(1,5))\n",
    "print(a)"
   ]
  },
  {
   "cell_type": "code",
   "execution_count": 37,
   "id": "b30ce9dc",
   "metadata": {},
   "outputs": [
    {
     "name": "stdout",
     "output_type": "stream",
     "text": [
      "[1, 2, 3, 4, 5]\n"
     ]
    }
   ],
   "source": [
    "a.append(5)\n",
    "print(a)"
   ]
  },
  {
   "cell_type": "code",
   "execution_count": 39,
   "id": "2baa9044",
   "metadata": {},
   "outputs": [
    {
     "name": "stdout",
     "output_type": "stream",
     "text": [
      "5\n"
     ]
    }
   ],
   "source": [
    "print(a.pop())"
   ]
  },
  {
   "cell_type": "code",
   "execution_count": 40,
   "id": "345364d9",
   "metadata": {},
   "outputs": [
    {
     "name": "stdout",
     "output_type": "stream",
     "text": [
      "[1, 2, 3, 4]\n"
     ]
    }
   ],
   "source": [
    "print(a)"
   ]
  },
  {
   "cell_type": "code",
   "execution_count": 2,
   "id": "25a5470f",
   "metadata": {},
   "outputs": [
    {
     "name": "stdout",
     "output_type": "stream",
     "text": [
      "please input an expression:[[[\n",
      "not match\n"
     ]
    }
   ],
   "source": [
    "expression = input(\"please input an expression:\")\n",
    "my_stack = list()\n",
    "left_quote = '{[('\n",
    "right_quote = ')]}'\n",
    "not_match = False\n",
    "for ch in expression:\n",
    "    if ch in left_quote:\n",
    "        my_stack.append(ch)\n",
    "    elif ch in right_quote:\n",
    "        if my_stack == []:\n",
    "            mot_match = True\n",
    "            break\n",
    "        else:\n",
    "            left_ch = my_stack.pop()\n",
    "            if left_quote.index(left_ch) != right_quote.index(ch):\n",
    "                not_match = True\n",
    "                break\n",
    "\n",
    "if not_match or my_stack != []:\n",
    "    print('not match')\n",
    "else:\n",
    "    print('match')\n"
   ]
  },
  {
   "cell_type": "code",
   "execution_count": null,
   "id": "70c73a33",
   "metadata": {},
   "outputs": [],
   "source": []
  },
  {
   "cell_type": "code",
   "execution_count": 45,
   "id": "e81e7253",
   "metadata": {},
   "outputs": [
    {
     "name": "stdout",
     "output_type": "stream",
     "text": [
      "[1640, 1638, 1707, 1713, 1676, 1626]\n"
     ]
    },
    {
     "data": {
      "image/png": "[encoded data removed]",
      "text/plain": [
       "<Figure size 640x480 with 1 Axes>"
      ]
     },
     "metadata": {},
     "output_type": "display_data"
    }
   ],
   "source": [
    "import random\n",
    "import matplotlib.pyplot as plt\n",
    "count=[0] * 6\n",
    "for _ in range(10000):\n",
    "    count[random.randint(0, 5)] += 1\n",
    "    \n",
    "print(count)\n",
    "\n",
    "plt.bar(range(1,7),count)\n",
    "plt.show()"
   ]
  },
  {
   "cell_type": "code",
   "execution_count": 46,
   "id": "858277a5",
   "metadata": {},
   "outputs": [],
   "source": [
    "a = [1,2,3]\n",
    "a.append(4)"
   ]
  },
  {
   "cell_type": "code",
   "execution_count": 47,
   "id": "fa5f541f",
   "metadata": {},
   "outputs": [
    {
     "data": {
      "text/plain": [
       "[1, 2, 3, 4]"
      ]
     },
     "execution_count": 47,
     "metadata": {},
     "output_type": "execute_result"
    }
   ],
   "source": [
    "a"
   ]
  },
  {
   "cell_type": "code",
   "execution_count": 48,
   "id": "a2af7500",
   "metadata": {},
   "outputs": [
    {
     "data": {
      "text/plain": [
       "1"
      ]
     },
     "execution_count": 48,
     "metadata": {},
     "output_type": "execute_result"
    }
   ],
   "source": [
    "a.pop(0)"
   ]
  },
  {
   "cell_type": "code",
   "execution_count": 54,
   "id": "8b6a18d5",
   "metadata": {},
   "outputs": [
    {
     "name": "stdout",
     "output_type": "stream",
     "text": [
      "49\n"
     ]
    }
   ],
   "source": [
    "import random\n",
    "count = 0\n",
    "last_three = [0, 0, 0]\n",
    "for _ in range(10000):\n",
    "    random.randint(1,6)\n",
    "    last_three.pop(0)\n",
    "    last_three.append(random.randint(1,6))\n",
    "    if last_three == [6,6,6]:\n",
    "        count += 1 \n",
    "print(count)"
   ]
  },
  {
   "cell_type": "code",
   "execution_count": 50,
   "id": "c8c1412e",
   "metadata": {},
   "outputs": [
    {
     "data": {
      "text/plain": [
       "46.2962962962963"
      ]
     },
     "execution_count": 50,
     "metadata": {},
     "output_type": "execute_result"
    }
   ],
   "source": [
    "10000*1/6*1/6*1/6"
   ]
  },
  {
   "cell_type": "code",
   "execution_count": 55,
   "id": "3bd0611e",
   "metadata": {},
   "outputs": [],
   "source": [
    "a = list(range(1,10))"
   ]
  },
  {
   "cell_type": "code",
   "execution_count": 57,
   "id": "41c71f99",
   "metadata": {},
   "outputs": [
    {
     "data": {
      "text/plain": [
       "[1, 4, 9, 16, 25, 36, 49, 64, 81]"
      ]
     },
     "execution_count": 57,
     "metadata": {},
     "output_type": "execute_result"
    }
   ],
   "source": [
    "[x * x for x in range(1,10)]"
   ]
  },
  {
   "cell_type": "code",
   "execution_count": 59,
   "id": "68886f8e",
   "metadata": {},
   "outputs": [
    {
     "name": "stdout",
     "output_type": "stream",
     "text": [
      "[-0.8828483182774137, -0.37225448884706464, -0.1479621314921043, 0.8040166572074157, -0.7018749364464238, 0.3518908747978717, -0.12746475519218706, -1.0040686460967323, -1.7661627753029367, 0.8892827458833797, -0.9192492306158289, 0.6414575502610316, -1.3305303650289144, 2.2541808358342283, 0.679759482449177, 0.5046032790023061, -0.7579834492531583, -0.9059993614810788, -0.4030615286938288, 0.059887729455985646, 2.6208913164556815, -0.3475644088224421, -1.5925245808245692, 2.0899763099407025, -0.09038433114487208, -0.08049954249177783, 2.4720585406303437, 0.5038007529582461, 0.2740865704088487, 0.9264636195890015, -0.8404934599578753, 0.0048758551757354645, 0.9941589536321954, -1.6585039492812959, 1.160658844547501, -1.373189563138463, 0.6237156003501916, -2.0407779938162007, -0.6616872130629619, -1.127804780587305, 0.4616580939902447, 0.10853777561105375, 1.1266778438015799, 0.6963072565724563, -0.34919212822821954, -1.2820888907931998, -0.43311999939086504, 1.8289988531786074, -0.5041545822987608, -0.2786272319141453, 1.2523720725813794, -0.31079077662798754, 0.19981918513942928, 0.28904333076252586, 0.9905378406155741, 0.029887887333245943, -0.48537859209754103, -0.47681182999170046, 0.8102308655586088, -0.5008311696518803, -0.7967845814815476, 1.198540841876787, 1.7538593147430284, 0.6926358350485444, 0.956981152236916, -1.9213878889733864, -1.3683881803055842, -0.2106364237267784, -0.13390482520830294, 0.6675514119901217, 0.6235610446386469, -0.03579874019145708, -1.2214977323902085, -0.8098551223048703, 0.2515727874079944, -0.47602294712269766, -0.5882231709374185, 0.26585196287371055, 0.9508350446968811, -1.6648150953913923, -0.86028832496518, -0.30669945681191063, 0.586324788252573, 0.8607279695286265, -0.01599609503866204, -0.14512816452030763, -1.1048317626657418, 1.2997354875008795, 2.012765062909843, 0.3417414389705856, -0.08001242758801962, 0.4140444347205227, 0.25605801412985263, -1.2955181395436912, -3.0452713980119324, -0.3654274356445659, 1.594332124687687, -0.8498100176462015, -1.1870940437042146, -1.0415975227073977]\n"
     ]
    }
   ],
   "source": [
    "a = [random.gauss(0,1) for _ in range(100)]\n",
    "print(a)"
   ]
  },
  {
   "cell_type": "code",
   "execution_count": 60,
   "id": "ece35676",
   "metadata": {},
   "outputs": [
    {
     "name": "stdout",
     "output_type": "stream",
     "text": [
      "[3, 6, 9, 12, 15, 18, 21, 24, 27, 30, 33, 36, 39, 42, 45, 48, 51, 54, 57, 60, 63, 66, 69, 72, 75, 78, 81, 84, 87, 90, 93, 96, 99]\n"
     ]
    }
   ],
   "source": [
    "a = [x for x in range(1, 101) if x % 3 == 0]\n",
    "print(a)"
   ]
  },
  {
   "cell_type": "code",
   "execution_count": 2,
   "id": "48d84b9f",
   "metadata": {},
   "outputs": [],
   "source": [
    "import random\n",
    "a = [random.gauss(0, 1) for _ in range(10000)]"
   ]
  },
  {
   "cell_type": "code",
   "execution_count": 4,
   "id": "1aebb7b4",
   "metadata": {},
   "outputs": [
    {
     "data": {
      "text/plain": [
       "(array([  1.,   2.,   3.,   7.,   8.,  18.,  27.,  74., 104., 193., 258.,\n",
       "        418., 525., 753., 842., 948., 983., 993., 883., 817., 680., 500.,\n",
       "        362., 262., 161.,  85.,  42.,  16.,  22.,  13.]),\n",
       " array([-4.21824703, -3.96667892, -3.71511081, -3.4635427 , -3.21197459,\n",
       "        -2.96040648, -2.70883837, -2.45727026, -2.20570215, -1.95413404,\n",
       "        -1.70256593, -1.45099782, -1.19942971, -0.9478616 , -0.69629349,\n",
       "        -0.44472538, -0.19315727,  0.05841084,  0.30997895,  0.56154706,\n",
       "         0.81311516,  1.06468327,  1.31625138,  1.56781949,  1.8193876 ,\n",
       "         2.07095571,  2.32252382,  2.57409193,  2.82566004,  3.07722815,\n",
       "         3.32879626]),\n",
       " <BarContainer object of 30 artists>)"
      ]
     },
     "execution_count": 4,
     "metadata": {},
     "output_type": "execute_result"
    },
    {
     "data": {
      "image/png": "[encoded data removed]",
      "text/plain": [
       "<Figure size 640x480 with 1 Axes>"
      ]
     },
     "metadata": {},
     "output_type": "display_data"
    }
   ],
   "source": [
    "import matplotlib.pyplot as plt\n",
    "plt.hist(a, bins=30)"
   ]
  },
  {
   "cell_type": "code",
   "execution_count": 7,
   "id": "8fcbcb23",
   "metadata": {},
   "outputs": [
    {
     "name": "stdout",
     "output_type": "stream",
     "text": [
      "[0, 1, 2, 3, 4, 5, 6, 7, 8, 9, 0, 1, 2, 3, 4, 5, 6, 7, 8, 9, 0, 1, 2, 3, 4, 5, 6, 7, 8, 9, 0, 1, 2, 3, 4, 5, 6, 7, 8, 9, 0, 1, 2, 3, 4, 5, 6, 7, 8, 9, 0, 1, 2, 3, 4, 5, 6, 7, 8, 9, 0, 1, 2, 3, 4, 5, 6, 7, 8, 9, 0, 1, 2, 3, 4, 5, 6, 7, 8, 9, 0, 1, 2, 3, 4, 5, 6, 7, 8, 9, 0, 1, 2, 3, 4, 5, 6, 7, 8, 9]\n"
     ]
    }
   ],
   "source": [
    "x= [x for x in range(10) for y in range(10)]\n",
    "y = [y for x in range(10) for y in range(10)]"
   ]
  },
  {
   "cell_type": "code",
   "execution_count": 8,
   "id": "0c9aaded",
   "metadata": {},
   "outputs": [
    {
     "data": {
      "image/png": "[encoded data removed]",
      "text/plain": [
       "<Figure size 640x480 with 1 Axes>"
      ]
     },
     "metadata": {},
     "output_type": "display_data"
    }
   ],
   "source": [
    "plt.scatter(x, y)\n",
    "plt.show()"
   ]
  },
  {
   "cell_type": "code",
   "execution_count": 9,
   "id": "66f72937",
   "metadata": {},
   "outputs": [
    {
     "data": {
      "image/png": "[encoded data removed]",
      "text/plain": [
       "<Figure size 1000x800 with 1 Axes>"
      ]
     },
     "metadata": {},
     "output_type": "display_data"
    }
   ],
   "source": [
    "z = [ xi * xi + yi * yi for xi, yi in zip(x, y)]\n",
    "import numpy as np\n",
    "X = np.array(x).reshape(10, 10)\n",
    "Y = np.array(y).reshape(10, 10)\n",
    "Z = np.array(z).reshape(10, 10)\n",
    "fig = plt.figure(figsize=(10, 8))\n",
    "ax = fig.subplots(subplot_kw={\"projection\": \"3d\"})\n",
    "surf = ax.plot_surface(X, Y, Z, cmap='plasma')"
   ]
  },
  {
   "cell_type": "code",
   "execution_count": 63,
   "id": "4b18162c",
   "metadata": {},
   "outputs": [],
   "source": [
    "x = [x for x in range(10) for y in range(10)]"
   ]
  },
  {
   "cell_type": "code",
   "execution_count": 64,
   "id": "f8766173",
   "metadata": {},
   "outputs": [
    {
     "data": {
      "text/plain": [
       "[0,\n",
       " 0,\n",
       " 0,\n",
       " 0,\n",
       " 0,\n",
       " 0,\n",
       " 0,\n",
       " 0,\n",
       " 0,\n",
       " 0,\n",
       " 1,\n",
       " 1,\n",
       " 1,\n",
       " 1,\n",
       " 1,\n",
       " 1,\n",
       " 1,\n",
       " 1,\n",
       " 1,\n",
       " 1,\n",
       " 2,\n",
       " 2,\n",
       " 2,\n",
       " 2,\n",
       " 2,\n",
       " 2,\n",
       " 2,\n",
       " 2,\n",
       " 2,\n",
       " 2,\n",
       " 3,\n",
       " 3,\n",
       " 3,\n",
       " 3,\n",
       " 3,\n",
       " 3,\n",
       " 3,\n",
       " 3,\n",
       " 3,\n",
       " 3,\n",
       " 4,\n",
       " 4,\n",
       " 4,\n",
       " 4,\n",
       " 4,\n",
       " 4,\n",
       " 4,\n",
       " 4,\n",
       " 4,\n",
       " 4,\n",
       " 5,\n",
       " 5,\n",
       " 5,\n",
       " 5,\n",
       " 5,\n",
       " 5,\n",
       " 5,\n",
       " 5,\n",
       " 5,\n",
       " 5,\n",
       " 6,\n",
       " 6,\n",
       " 6,\n",
       " 6,\n",
       " 6,\n",
       " 6,\n",
       " 6,\n",
       " 6,\n",
       " 6,\n",
       " 6,\n",
       " 7,\n",
       " 7,\n",
       " 7,\n",
       " 7,\n",
       " 7,\n",
       " 7,\n",
       " 7,\n",
       " 7,\n",
       " 7,\n",
       " 7,\n",
       " 8,\n",
       " 8,\n",
       " 8,\n",
       " 8,\n",
       " 8,\n",
       " 8,\n",
       " 8,\n",
       " 8,\n",
       " 8,\n",
       " 8,\n",
       " 9,\n",
       " 9,\n",
       " 9,\n",
       " 9,\n",
       " 9,\n",
       " 9,\n",
       " 9,\n",
       " 9,\n",
       " 9,\n",
       " 9]"
      ]
     },
     "execution_count": 64,
     "metadata": {},
     "output_type": "execute_result"
    }
   ],
   "source": [
    "x"
   ]
  },
  {
   "cell_type": "code",
   "execution_count": 65,
   "id": "942b8fe2",
   "metadata": {},
   "outputs": [],
   "source": [
    "y = [y for x in range(10) for y in range(10)]"
   ]
  },
  {
   "cell_type": "code",
   "execution_count": 66,
   "id": "6002ba30",
   "metadata": {},
   "outputs": [
    {
     "data": {
      "text/plain": [
       "[0,\n",
       " 1,\n",
       " 2,\n",
       " 3,\n",
       " 4,\n",
       " 5,\n",
       " 6,\n",
       " 7,\n",
       " 8,\n",
       " 9,\n",
       " 0,\n",
       " 1,\n",
       " 2,\n",
       " 3,\n",
       " 4,\n",
       " 5,\n",
       " 6,\n",
       " 7,\n",
       " 8,\n",
       " 9,\n",
       " 0,\n",
       " 1,\n",
       " 2,\n",
       " 3,\n",
       " 4,\n",
       " 5,\n",
       " 6,\n",
       " 7,\n",
       " 8,\n",
       " 9,\n",
       " 0,\n",
       " 1,\n",
       " 2,\n",
       " 3,\n",
       " 4,\n",
       " 5,\n",
       " 6,\n",
       " 7,\n",
       " 8,\n",
       " 9,\n",
       " 0,\n",
       " 1,\n",
       " 2,\n",
       " 3,\n",
       " 4,\n",
       " 5,\n",
       " 6,\n",
       " 7,\n",
       " 8,\n",
       " 9,\n",
       " 0,\n",
       " 1,\n",
       " 2,\n",
       " 3,\n",
       " 4,\n",
       " 5,\n",
       " 6,\n",
       " 7,\n",
       " 8,\n",
       " 9,\n",
       " 0,\n",
       " 1,\n",
       " 2,\n",
       " 3,\n",
       " 4,\n",
       " 5,\n",
       " 6,\n",
       " 7,\n",
       " 8,\n",
       " 9,\n",
       " 0,\n",
       " 1,\n",
       " 2,\n",
       " 3,\n",
       " 4,\n",
       " 5,\n",
       " 6,\n",
       " 7,\n",
       " 8,\n",
       " 9,\n",
       " 0,\n",
       " 1,\n",
       " 2,\n",
       " 3,\n",
       " 4,\n",
       " 5,\n",
       " 6,\n",
       " 7,\n",
       " 8,\n",
       " 9,\n",
       " 0,\n",
       " 1,\n",
       " 2,\n",
       " 3,\n",
       " 4,\n",
       " 5,\n",
       " 6,\n",
       " 7,\n",
       " 8,\n",
       " 9]"
      ]
     },
     "execution_count": 66,
     "metadata": {},
     "output_type": "execute_result"
    }
   ],
   "source": [
    "y"
   ]
  },
  {
   "cell_type": "code",
   "execution_count": 70,
   "id": "b82177a1",
   "metadata": {},
   "outputs": [],
   "source": [
    "import numpy as np\n",
    "x = np.array(x).reshape(10,10)\n",
    "y = np.array(y).reshape(10,10)"
   ]
  },
  {
   "cell_type": "code",
   "execution_count": 68,
   "id": "2b41cd05",
   "metadata": {},
   "outputs": [
    {
     "data": {
      "text/plain": [
       "array([[0, 0, 0, 0, 0, 0, 0, 0, 0, 0],\n",
       "       [1, 1, 1, 1, 1, 1, 1, 1, 1, 1],\n",
       "       [2, 2, 2, 2, 2, 2, 2, 2, 2, 2],\n",
       "       [3, 3, 3, 3, 3, 3, 3, 3, 3, 3],\n",
       "       [4, 4, 4, 4, 4, 4, 4, 4, 4, 4],\n",
       "       [5, 5, 5, 5, 5, 5, 5, 5, 5, 5],\n",
       "       [6, 6, 6, 6, 6, 6, 6, 6, 6, 6],\n",
       "       [7, 7, 7, 7, 7, 7, 7, 7, 7, 7],\n",
       "       [8, 8, 8, 8, 8, 8, 8, 8, 8, 8],\n",
       "       [9, 9, 9, 9, 9, 9, 9, 9, 9, 9]])"
      ]
     },
     "execution_count": 68,
     "metadata": {},
     "output_type": "execute_result"
    }
   ],
   "source": [
    "x"
   ]
  },
  {
   "cell_type": "code",
   "execution_count": 71,
   "id": "b8a75ce4",
   "metadata": {},
   "outputs": [
    {
     "data": {
      "text/plain": [
       "array([[0, 1, 2, 3, 4, 5, 6, 7, 8, 9],\n",
       "       [0, 1, 2, 3, 4, 5, 6, 7, 8, 9],\n",
       "       [0, 1, 2, 3, 4, 5, 6, 7, 8, 9],\n",
       "       [0, 1, 2, 3, 4, 5, 6, 7, 8, 9],\n",
       "       [0, 1, 2, 3, 4, 5, 6, 7, 8, 9],\n",
       "       [0, 1, 2, 3, 4, 5, 6, 7, 8, 9],\n",
       "       [0, 1, 2, 3, 4, 5, 6, 7, 8, 9],\n",
       "       [0, 1, 2, 3, 4, 5, 6, 7, 8, 9],\n",
       "       [0, 1, 2, 3, 4, 5, 6, 7, 8, 9],\n",
       "       [0, 1, 2, 3, 4, 5, 6, 7, 8, 9]])"
      ]
     },
     "execution_count": 71,
     "metadata": {},
     "output_type": "execute_result"
    }
   ],
   "source": [
    "y"
   ]
  },
  {
   "cell_type": "code",
   "execution_count": null,
   "id": "08bd24ef",
   "metadata": {},
   "outputs": [],
   "source": []
  }
 ],
 "metadata": {
  "kernelspec": {
   "display_name": "Python 3 (ipykernel)",
   "language": "python",
   "name": "python3"
  },
  "language_info": {
   "codemirror_mode": {
    "name": "ipython",
    "version": 3
   },
   "file_extension": ".py",
   "mimetype": "text/x-python",
   "name": "python",
   "nbconvert_exporter": "python",
   "pygments_lexer": "ipython3",
   "version": "3.11.5"
  }
 },
 "nbformat": 4,
 "nbformat_minor": 5
}
