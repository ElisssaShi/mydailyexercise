{
 "cells": [
  {
   "cell_type": "code",
   "execution_count": 2,
   "id": "6d8b38f5",
   "metadata": {},
   "outputs": [
    {
     "name": "stdout",
     "output_type": "stream",
     "text": [
      "please input a game:ww\n",
      "100\n"
     ]
    }
   ],
   "source": [
    "names = ['zs','ls','ww']\n",
    "scores = [90,80,100]\n",
    "name = input('please input a game:')\n",
    "print(scores[names.index(name)])"
   ]
  },
  {
   "cell_type": "code",
   "execution_count": 4,
   "id": "470abf45",
   "metadata": {},
   "outputs": [
    {
     "name": "stdout",
     "output_type": "stream",
     "text": [
      "please input a game:ww\n",
      "100\n"
     ]
    }
   ],
   "source": [
    "scores = {'zs':90, 'ls':80, 'ww':100}\n",
    "name = input('please input a game:')\n",
    "print(scores[name])"
   ]
  },
  {
   "cell_type": "code",
   "execution_count": 5,
   "id": "e75a047c",
   "metadata": {},
   "outputs": [
    {
     "data": {
      "text/plain": [
       "True"
      ]
     },
     "execution_count": 5,
     "metadata": {},
     "output_type": "execute_result"
    }
   ],
   "source": [
    "'zs' in scores"
   ]
  },
  {
   "cell_type": "code",
   "execution_count": 7,
   "id": "255b9246",
   "metadata": {},
   "outputs": [],
   "source": [
    "scores['yg'] = 120"
   ]
  },
  {
   "cell_type": "code",
   "execution_count": 8,
   "id": "b41ce42d",
   "metadata": {},
   "outputs": [
    {
     "name": "stdout",
     "output_type": "stream",
     "text": [
      "{'zs': 90, 'ls': 80, 'ww': 100, 'yg': 120}\n"
     ]
    }
   ],
   "source": [
    "print(scores)"
   ]
  },
  {
   "cell_type": "code",
   "execution_count": 9,
   "id": "33153b19",
   "metadata": {},
   "outputs": [
    {
     "name": "stdout",
     "output_type": "stream",
     "text": [
      "{'zs': 90, 'ls': 80, 'ww': 100}\n"
     ]
    }
   ],
   "source": [
    "del(scores['yg'])\n",
    "print(scores)"
   ]
  },
  {
   "cell_type": "code",
   "execution_count": 10,
   "id": "89328a07",
   "metadata": {},
   "outputs": [],
   "source": [
    "d = dict(name = 'zs', age = 42)"
   ]
  },
  {
   "cell_type": "code",
   "execution_count": 11,
   "id": "2090dc4b",
   "metadata": {},
   "outputs": [
    {
     "name": "stdout",
     "output_type": "stream",
     "text": [
      "{'name': 'zs', 'age': 42}\n"
     ]
    }
   ],
   "source": [
    "print(d)"
   ]
  },
  {
   "cell_type": "code",
   "execution_count": 13,
   "id": "caff7555",
   "metadata": {},
   "outputs": [
    {
     "name": "stdout",
     "output_type": "stream",
     "text": [
      "zs 42\n"
     ]
    }
   ],
   "source": [
    "print(d['name'],d['age'])"
   ]
  },
  {
   "cell_type": "code",
   "execution_count": 14,
   "id": "fd5b0471",
   "metadata": {},
   "outputs": [
    {
     "data": {
      "text/plain": [
       "{'name': 0, 'age': 0}"
      ]
     },
     "execution_count": 14,
     "metadata": {},
     "output_type": "execute_result"
    }
   ],
   "source": [
    "{}.fromkeys(['name','age'],0)"
   ]
  },
  {
   "cell_type": "code",
   "execution_count": 16,
   "id": "fb405ee6",
   "metadata": {},
   "outputs": [
    {
     "name": "stdout",
     "output_type": "stream",
     "text": [
      "{'a': 0, 'e': 0, 'i': 0, 'o': 0, 'u': 0}\n"
     ]
    }
   ],
   "source": [
    "str = 'hello this is a test. I designed the test for the simple purpose to test.'\n",
    "count = dict.fromkeys('aeiou',0)\n",
    "print(count)"
   ]
  },
  {
   "cell_type": "code",
   "execution_count": 17,
   "id": "ea36d781",
   "metadata": {},
   "outputs": [
    {
     "name": "stdout",
     "output_type": "stream",
     "text": [
      "{'a': 1, 'e': 10, 'i': 4, 'o': 4, 'u': 1}\n"
     ]
    }
   ],
   "source": [
    "for ch in str:\n",
    "    if ch in count:\n",
    "        count[ch] += 1\n",
    "\n",
    "print(count)"
   ]
  },
  {
   "cell_type": "code",
   "execution_count": 18,
   "id": "08db3979",
   "metadata": {},
   "outputs": [
    {
     "data": {
      "text/plain": [
       "1"
      ]
     },
     "execution_count": 18,
     "metadata": {},
     "output_type": "execute_result"
    }
   ],
   "source": [
    "count.get('a')"
   ]
  },
  {
   "cell_type": "code",
   "execution_count": 22,
   "id": "1ecad493",
   "metadata": {},
   "outputs": [
    {
     "name": "stdout",
     "output_type": "stream",
     "text": [
      "N/A\n"
     ]
    }
   ],
   "source": [
    "print(count.get('h','N/A'))"
   ]
  },
  {
   "cell_type": "code",
   "execution_count": 23,
   "id": "2dc7a8cf",
   "metadata": {},
   "outputs": [],
   "source": [
    "text = '''\n",
    "\n",
    "Google today released the open source version of the differential privacy library used in some its core products, such as Google Maps. Any organization or developer can now check out the library on GitHub.\n",
    "\n",
    "Differential privacy limits the algorithms used to publish aggregate information about a statistical database. Whether you are a city planner, small business owner, or software developer, chances are you want to gain insights from the data of your citizens, customers, or users. But you don’t want to lose their trust in the process. Differentially private data analysis enables organizations to learn from the majority of their data without allowing any single individual’s data to be distinguished or re-identified.\n",
    "\n",
    "“If you are a health researcher, you may want to compare the average amount of time patients remain admitted across various hospitals in order to determine if there are differences in care,” Google product manager Miguel Guevara explains. “Differential privacy is a high-assurance, analytic means of ensuring that use cases like this are addressed in a privacy-preserving manner.”\n",
    "Differential privacy library features\n",
    "\n",
    "Google promises its library is easy for developers to deploy. It can help you perform functions that are difficult to execute from scratch, “like automatically calculating bounds on user contributions,” Guevera says. Key features include:\n",
    "\n",
    "    Statistical functions: Most common data science operations (counts, sums, averages, medians, and percentiles) are supported.\n",
    "    Rigorous testing: Besides an extensive test suite, an extensible “Stochastic Differential Privacy Model Checker library” helps prevent mistakes.\n",
    "    Ready to use: A PostgreSQL extension, along with common recipes, is included.\n",
    "    Modular: The library can be extended to include other functionalities, such as additional mechanisms, aggregation functions, or privacy budget management.\n",
    "\n",
    "This isn’t Google’s first differential privacy rodeo, but the company has been particularly busy in the space this year. I\n",
    "\n",
    "\n",
    "'''"
   ]
  },
  {
   "cell_type": "code",
   "execution_count": 24,
   "id": "51a98f00",
   "metadata": {},
   "outputs": [
    {
     "name": "stdout",
     "output_type": "stream",
     "text": [
      "{'b': 1, 'a': 0}\n"
     ]
    }
   ],
   "source": [
    "d = dict()\n",
    "d['b'] = 1\n",
    "d.setdefault('b',0)\n",
    "d.setdefault('a',0)\n",
    "print(d)"
   ]
  },
  {
   "cell_type": "code",
   "execution_count": 25,
   "id": "44f4603e",
   "metadata": {},
   "outputs": [],
   "source": [
    "#count.setdefault('this',0)\n",
    "#count['this'] += 1"
   ]
  },
  {
   "cell_type": "code",
   "execution_count": 33,
   "id": "83be7b4b",
   "metadata": {},
   "outputs": [],
   "source": [
    "text = text.lower().replace('\\n',' ')\n",
    "for sep in '\\n,-\\t.()\\'\\\":;,':\n",
    "    text = text.replace(sep,' ')\n",
    "words = text.split(' ')"
   ]
  },
  {
   "cell_type": "code",
   "execution_count": 40,
   "id": "068dadd3",
   "metadata": {},
   "outputs": [
    {
     "name": "stdout",
     "output_type": "stream",
     "text": [
      "['google', 'today', 'released', 'the', 'open', 'source', 'version', 'of', 'the', 'differential', 'privacy', 'library', 'used', 'in', 'some', 'its', 'core', 'products', 'such', 'as', 'google', 'maps', 'any', 'organization', 'or', 'developer', 'can', 'now', 'check', 'out', 'the', 'library', 'on', 'github', 'differential', 'privacy', 'limits', 'the', 'algorithms', 'used', 'to', 'publish', 'aggregate', 'information', 'about', 'a', 'statistical', 'database', 'whether', 'you', 'are', 'a', 'city', 'planner', 'small', 'business', 'owner', 'or', 'software', 'developer', 'chances', 'are', 'you', 'want', 'to', 'gain', 'insights', 'from', 'the', 'data', 'of', 'your', 'citizens', 'customers', 'or', 'users', 'but', 'you', 'don’t', 'want', 'to', 'lose', 'their', 'trust', 'in', 'the', 'process', 'differentially', 'private', 'data', 'analysis', 'enables', 'organizations', 'to', 'learn', 'from', 'the', 'majority', 'of', 'their', 'data', 'without', 'allowing', 'any', 'single', 'individual’s', 'data', 'to', 'be', 'distinguished', 'or', 're', 'identified', '“if', 'you', 'are', 'a', 'health', 'researcher', 'you', 'may', 'want', 'to', 'compare', 'the', 'average', 'amount', 'of', 'time', 'patients', 'remain', 'admitted', 'across', 'various', 'hospitals', 'in', 'order', 'to', 'determine', 'if', 'there', 'are', 'differences', 'in', 'care', '”', 'google', 'product', 'manager', 'miguel', 'guevara', 'explains', '“differential', 'privacy', 'is', 'a', 'high', 'assurance', 'analytic', 'means', 'of', 'ensuring', 'that', 'use', 'cases', 'like', 'this', 'are', 'addressed', 'in', 'a', 'privacy', 'preserving', 'manner', '”', 'differential', 'privacy', 'library', 'features', 'google', 'promises', 'its', 'library', 'is', 'easy', 'for', 'developers', 'to', 'deploy', 'it', 'can', 'help', 'you', 'perform', 'functions', 'that', 'are', 'difficult', 'to', 'execute', 'from', 'scratch', '“like', 'automatically', 'calculating', 'bounds', 'on', 'user', 'contributions', '”', 'guevera', 'says', 'key', 'features', 'include', 'statistical', 'functions', 'most', 'common', 'data', 'science', 'operations', 'counts', 'sums', 'averages', 'medians', 'and', 'percentiles', 'are', 'supported', 'rigorous', 'testing', 'besides', 'an', 'extensive', 'test', 'suite', 'an', 'extensible', '“stochastic', 'differential', 'privacy', 'model', 'checker', 'library”', 'helps', 'prevent', 'mistakes', 'ready', 'to', 'use', 'a', 'postgresql', 'extension', 'along', 'with', 'common', 'recipes', 'is', 'included', 'modular', 'the', 'library', 'can', 'be', 'extended', 'to', 'include', 'other', 'functionalities', 'such', 'as', 'additional', 'mechanisms', 'aggregation', 'functions', 'or', 'privacy', 'budget', 'management', 'this', 'isn’t', 'google’s', 'first', 'differential', 'privacy', 'rodeo', 'but', 'the', 'company', 'has', 'been', 'particularly', 'busy', 'in', 'the', 'space', 'this', 'year', 'i'] "
     ]
    }
   ],
   "source": [
    "print(words,end = ' ')"
   ]
  },
  {
   "cell_type": "code",
   "execution_count": 37,
   "id": "c944593e",
   "metadata": {},
   "outputs": [],
   "source": [
    "words.remove('')"
   ]
  },
  {
   "cell_type": "code",
   "execution_count": 39,
   "id": "c44e88ec",
   "metadata": {},
   "outputs": [],
   "source": [
    "try:\n",
    "    while True: words.remove('')\n",
    "except:\n",
    "    pass"
   ]
  },
  {
   "cell_type": "code",
   "execution_count": 42,
   "id": "26e7ff5f",
   "metadata": {},
   "outputs": [
    {
     "name": "stdout",
     "output_type": "stream",
     "text": [
      "{'google': 4, 'today': 1, 'released': 1, 'the': 11, 'open': 1, 'source': 1, 'version': 1, 'of': 5, 'differential': 5, 'privacy': 8, 'library': 5, 'used': 2, 'in': 6, 'some': 1, 'its': 2, 'core': 1, 'products': 1, 'such': 2, 'as': 2, 'maps': 1, 'any': 2, 'organization': 1, 'or': 5, 'developer': 2, 'can': 3, 'now': 1, 'check': 1, 'out': 1, 'on': 2, 'github': 1, 'limits': 1, 'algorithms': 1, 'to': 11, 'publish': 1, 'aggregate': 1, 'information': 1, 'about': 1, 'a': 6, 'statistical': 2, 'database': 1, 'whether': 1, 'you': 6, 'are': 7, 'city': 1, 'planner': 1, 'small': 1, 'business': 1, 'owner': 1, 'software': 1, 'chances': 1, 'want': 3, 'gain': 1, 'insights': 1, 'from': 3, 'data': 5, 'your': 1, 'citizens': 1, 'customers': 1, 'users': 1, 'but': 2, 'don’t': 1, 'lose': 1, 'their': 2, 'trust': 1, 'process': 1, 'differentially': 1, 'private': 1, 'analysis': 1, 'enables': 1, 'organizations': 1, 'learn': 1, 'majority': 1, 'without': 1, 'allowing': 1, 'single': 1, 'individual’s': 1, 'be': 2, 'distinguished': 1, 're': 1, 'identified': 1, '“if': 1, 'health': 1, 'researcher': 1, 'may': 1, 'compare': 1, 'average': 1, 'amount': 1, 'time': 1, 'patients': 1, 'remain': 1, 'admitted': 1, 'across': 1, 'various': 1, 'hospitals': 1, 'order': 1, 'determine': 1, 'if': 1, 'there': 1, 'differences': 1, 'care': 1, '”': 3, 'product': 1, 'manager': 1, 'miguel': 1, 'guevara': 1, 'explains': 1, '“differential': 1, 'is': 3, 'high': 1, 'assurance': 1, 'analytic': 1, 'means': 1, 'ensuring': 1, 'that': 2, 'use': 2, 'cases': 1, 'like': 1, 'this': 3, 'addressed': 1, 'preserving': 1, 'manner': 1, 'features': 2, 'promises': 1, 'easy': 1, 'for': 1, 'developers': 1, 'deploy': 1, 'it': 1, 'help': 1, 'perform': 1, 'functions': 3, 'difficult': 1, 'execute': 1, 'scratch': 1, '“like': 1, 'automatically': 1, 'calculating': 1, 'bounds': 1, 'user': 1, 'contributions': 1, 'guevera': 1, 'says': 1, 'key': 1, 'include': 2, 'most': 1, 'common': 2, 'science': 1, 'operations': 1, 'counts': 1, 'sums': 1, 'averages': 1, 'medians': 1, 'and': 1, 'percentiles': 1, 'supported': 1, 'rigorous': 1, 'testing': 1, 'besides': 1, 'an': 2, 'extensive': 1, 'test': 1, 'suite': 1, 'extensible': 1, '“stochastic': 1, 'model': 1, 'checker': 1, 'library”': 1, 'helps': 1, 'prevent': 1, 'mistakes': 1, 'ready': 1, 'postgresql': 1, 'extension': 1, 'along': 1, 'with': 1, 'recipes': 1, 'included': 1, 'modular': 1, 'extended': 1, 'other': 1, 'functionalities': 1, 'additional': 1, 'mechanisms': 1, 'aggregation': 1, 'budget': 1, 'management': 1, 'isn’t': 1, 'google’s': 1, 'first': 1, 'rodeo': 1, 'company': 1, 'has': 1, 'been': 1, 'particularly': 1, 'busy': 1, 'space': 1, 'year': 1, 'i': 1}\n"
     ]
    }
   ],
   "source": [
    "count = dict()\n",
    "for word in words:\n",
    "    count.setdefault(word, 0)\n",
    "    count[word] += 1\n",
    "\n",
    "print(count)"
   ]
  },
  {
   "cell_type": "code",
   "execution_count": 44,
   "id": "b9efcb25",
   "metadata": {},
   "outputs": [
    {
     "name": "stdout",
     "output_type": "stream",
     "text": [
      "{4: ['google'], 1: ['today', 'released', 'open', 'source', 'version', 'some', 'core', 'products', 'maps', 'organization', 'now', 'check', 'out', 'github', 'limits', 'algorithms', 'publish', 'aggregate', 'information', 'about', 'database', 'whether', 'city', 'planner', 'small', 'business', 'owner', 'software', 'chances', 'gain', 'insights', 'your', 'citizens', 'customers', 'users', 'don’t', 'lose', 'trust', 'process', 'differentially', 'private', 'analysis', 'enables', 'organizations', 'learn', 'majority', 'without', 'allowing', 'single', 'individual’s', 'distinguished', 're', 'identified', '“if', 'health', 'researcher', 'may', 'compare', 'average', 'amount', 'time', 'patients', 'remain', 'admitted', 'across', 'various', 'hospitals', 'order', 'determine', 'if', 'there', 'differences', 'care', 'product', 'manager', 'miguel', 'guevara', 'explains', '“differential', 'high', 'assurance', 'analytic', 'means', 'ensuring', 'cases', 'like', 'addressed', 'preserving', 'manner', 'promises', 'easy', 'for', 'developers', 'deploy', 'it', 'help', 'perform', 'difficult', 'execute', 'scratch', '“like', 'automatically', 'calculating', 'bounds', 'user', 'contributions', 'guevera', 'says', 'key', 'most', 'science', 'operations', 'counts', 'sums', 'averages', 'medians', 'and', 'percentiles', 'supported', 'rigorous', 'testing', 'besides', 'extensive', 'test', 'suite', 'extensible', '“stochastic', 'model', 'checker', 'library”', 'helps', 'prevent', 'mistakes', 'ready', 'postgresql', 'extension', 'along', 'with', 'recipes', 'included', 'modular', 'extended', 'other', 'functionalities', 'additional', 'mechanisms', 'aggregation', 'budget', 'management', 'isn’t', 'google’s', 'first', 'rodeo', 'company', 'has', 'been', 'particularly', 'busy', 'space', 'year', 'i'], 11: ['the', 'to'], 5: ['of', 'differential', 'library', 'or', 'data'], 8: ['privacy'], 2: ['used', 'its', 'such', 'as', 'any', 'developer', 'on', 'statistical', 'but', 'their', 'be', 'that', 'use', 'features', 'include', 'common', 'an'], 6: ['in', 'a', 'you'], 3: ['can', 'want', 'from', '”', 'is', 'this', 'functions'], 7: ['are']}\n"
     ]
    }
   ],
   "source": [
    "words_by_count = dict()\n",
    "for word in count.keys():\n",
    "    words_by_count.setdefault(count[word],[])\n",
    "    words_by_count[count[word]].append(word)\n",
    "print(words_by_count)"
   ]
  },
  {
   "cell_type": "code",
   "execution_count": 45,
   "id": "64eb90a3",
   "metadata": {},
   "outputs": [
    {
     "data": {
      "text/plain": [
       "dict_keys([4, 1, 11, 5, 8, 2, 6, 3, 7])"
      ]
     },
     "execution_count": 45,
     "metadata": {},
     "output_type": "execute_result"
    }
   ],
   "source": [
    "words_by_count.keys()"
   ]
  },
  {
   "cell_type": "code",
   "execution_count": 50,
   "id": "5804f5e0",
   "metadata": {},
   "outputs": [
    {
     "name": "stdout",
     "output_type": "stream",
     "text": [
      "count 11 : the to \n",
      "count 8 : privacy \n",
      "count 7 : are \n",
      "count 6 : in a you \n",
      "count 5 : of differential library or data \n",
      "count 4 : google \n",
      "count 3 : can want from ” is this functions \n",
      "count 2 : used its such as any developer on statistical but their be that use features include common an \n",
      "count 1 : today released open source version some core products maps organization now check out github limits algorithms publish aggregate information about database whether city planner small business owner software chances gain insights your citizens customers users don’t lose trust process differentially private analysis enables organizations learn majority without allowing single individual’s distinguished re identified “if health researcher may compare average amount time patients remain admitted across various hospitals order determine if there differences care product manager miguel guevara explains “differential high assurance analytic means ensuring cases like addressed preserving manner promises easy for developers deploy it help perform difficult execute scratch “like automatically calculating bounds user contributions guevera says key most science operations counts sums averages medians and percentiles supported rigorous testing besides extensive test suite extensible “stochastic model checker library” helps prevent mistakes ready postgresql extension along with recipes included modular extended other functionalities additional mechanisms aggregation budget management isn’t google’s first rodeo company has been particularly busy space year i \n"
     ]
    }
   ],
   "source": [
    "for item in sorted(words_by_count.keys(),reverse = True):\n",
    "    print(f'count {item} :',end = ' ')\n",
    "    for word in words_by_count[item]:\n",
    "        print(word,end = ' ')\n",
    "    print('')"
   ]
  },
  {
   "cell_type": "code",
   "execution_count": 53,
   "id": "cd2e37f7",
   "metadata": {},
   "outputs": [
    {
     "data": {
      "text/plain": [
       "<function matplotlib.pyplot.show(close=None, block=None)>"
      ]
     },
     "execution_count": 53,
     "metadata": {},
     "output_type": "execute_result"
    },
    {
     "data": {
      "image/png": "[encoded data removed]",
      "text/plain": [
       "<Figure size 1000x1000 with 1 Axes>"
      ]
     },
     "metadata": {},
     "output_type": "display_data"
    }
   ],
   "source": [
    "import matplotlib.pyplot as plt\n",
    "fig = plt.figure(figsize = (10,10))\n",
    "ax = fig.subplots()\n",
    "names = ['x','y','z']\n",
    "value = [10,20,30]\n",
    "plt.barh(names,value)\n",
    "plt.show"
   ]
  },
  {
   "cell_type": "code",
   "execution_count": 59,
   "id": "425983d8",
   "metadata": {},
   "outputs": [],
   "source": [
    "import json\n",
    "\n",
    "with open('d:\\\\test.json','w') as f:\n",
    "    json.dump(words_by_count, f)"
   ]
  },
  {
   "cell_type": "code",
   "execution_count": 60,
   "id": "51acad3c",
   "metadata": {},
   "outputs": [
    {
     "ename": "TypeError",
     "evalue": "dump() missing 1 required positional argument: 'fp'",
     "output_type": "error",
     "traceback": [
      "\u001b[1;31m---------------------------------------------------------------------------\u001b[0m",
      "\u001b[1;31mTypeError\u001b[0m                                 Traceback (most recent call last)",
      "Cell \u001b[1;32mIn[60], line 2\u001b[0m\n\u001b[0;32m      1\u001b[0m \u001b[38;5;28;01mwith\u001b[39;00m \u001b[38;5;28mopen\u001b[39m(\u001b[38;5;124m'\u001b[39m\u001b[38;5;124md:\u001b[39m\u001b[38;5;130;01m\\\\\u001b[39;00m\u001b[38;5;124mtest.json\u001b[39m\u001b[38;5;124m'\u001b[39m,\u001b[38;5;124m'\u001b[39m\u001b[38;5;124mr\u001b[39m\u001b[38;5;124m'\u001b[39m) \u001b[38;5;28;01mas\u001b[39;00m f:\n\u001b[1;32m----> 2\u001b[0m     json\u001b[38;5;241m.\u001b[39mdump(f)\n",
      "\u001b[1;31mTypeError\u001b[0m: dump() missing 1 required positional argument: 'fp'"
     ]
    }
   ],
   "source": [
    "with open('d:\\\\test.json','r') as f:\n",
    "    json.dump(f)"
   ]
  },
  {
   "cell_type": "code",
   "execution_count": 61,
   "id": "dc82d365",
   "metadata": {},
   "outputs": [
    {
     "name": "stdout",
     "output_type": "stream",
     "text": [
      "bytearray(b'hello')\n"
     ]
    }
   ],
   "source": [
    "x = bytearray(b'hello')\n",
    "print(x)"
   ]
  },
  {
   "cell_type": "code",
   "execution_count": 62,
   "id": "63f46d45",
   "metadata": {},
   "outputs": [
    {
     "name": "stdout",
     "output_type": "stream",
     "text": [
      "bytearray(b'Hello')\n"
     ]
    }
   ],
   "source": [
    "x[0] = ord('H')\n",
    "print(x)"
   ]
  },
  {
   "cell_type": "code",
   "execution_count": 63,
   "id": "ee3d8fcc",
   "metadata": {},
   "outputs": [
    {
     "data": {
      "text/plain": [
       "b'hello'"
      ]
     },
     "execution_count": 63,
     "metadata": {},
     "output_type": "execute_result"
    }
   ],
   "source": [
    "'hello'.encode('ASCII')"
   ]
  },
  {
   "cell_type": "code",
   "execution_count": 67,
   "id": "5ba5e1ea",
   "metadata": {},
   "outputs": [
    {
     "data": {
      "text/plain": [
       "b'\\xe4\\xbd\\xa0\\xe5\\xa5\\xbd'"
      ]
     },
     "execution_count": 67,
     "metadata": {},
     "output_type": "execute_result"
    }
   ],
   "source": [
    "'你好'.encode('UTF-8')"
   ]
  },
  {
   "cell_type": "code",
   "execution_count": 68,
   "id": "8e9a9e85",
   "metadata": {},
   "outputs": [
    {
     "data": {
      "text/plain": [
       "b'hello'"
      ]
     },
     "execution_count": 68,
     "metadata": {},
     "output_type": "execute_result"
    }
   ],
   "source": [
    "'hello'.encode('UTF-8')"
   ]
  },
  {
   "cell_type": "code",
   "execution_count": 72,
   "id": "76ad1817",
   "metadata": {},
   "outputs": [
    {
     "data": {
      "text/plain": [
       "b'\\xff\\xfeh\\x00e\\x00l\\x00l\\x00o\\x00'"
      ]
     },
     "execution_count": 72,
     "metadata": {},
     "output_type": "execute_result"
    }
   ],
   "source": [
    "'hello'.encode('UTF-16')"
   ]
  },
  {
   "cell_type": "code",
   "execution_count": null,
   "id": "0d959062",
   "metadata": {},
   "outputs": [],
   "source": []
  },
  {
   "cell_type": "code",
   "execution_count": 73,
   "id": "c30e0a44",
   "metadata": {},
   "outputs": [
    {
     "data": {
      "text/plain": [
       "6"
      ]
     },
     "execution_count": 73,
     "metadata": {},
     "output_type": "execute_result"
    }
   ],
   "source": [
    "len('你好'.encode('UTF-16'))"
   ]
  },
  {
   "cell_type": "code",
   "execution_count": 74,
   "id": "5b92325f",
   "metadata": {},
   "outputs": [],
   "source": [
    "x, y = 1, 2"
   ]
  },
  {
   "cell_type": "code",
   "execution_count": 75,
   "id": "80ff379b",
   "metadata": {},
   "outputs": [],
   "source": [
    "x, y = y, x"
   ]
  },
  {
   "cell_type": "code",
   "execution_count": 76,
   "id": "90c9f662",
   "metadata": {},
   "outputs": [
    {
     "name": "stdout",
     "output_type": "stream",
     "text": [
      "2 1\n"
     ]
    }
   ],
   "source": [
    "print(x,y)"
   ]
  },
  {
   "cell_type": "code",
   "execution_count": 80,
   "id": "23c6aedd",
   "metadata": {},
   "outputs": [],
   "source": [
    "t = (1, 2, 3, 4)"
   ]
  },
  {
   "cell_type": "code",
   "execution_count": 84,
   "id": "6979bd4c",
   "metadata": {},
   "outputs": [],
   "source": [
    "x, *y, z= t"
   ]
  },
  {
   "cell_type": "code",
   "execution_count": 85,
   "id": "7cfe7563",
   "metadata": {},
   "outputs": [
    {
     "name": "stdout",
     "output_type": "stream",
     "text": [
      "1 [2, 3] 4\n"
     ]
    }
   ],
   "source": [
    "print(x, y, z)"
   ]
  },
  {
   "cell_type": "code",
   "execution_count": 86,
   "id": "33b558ef",
   "metadata": {},
   "outputs": [
    {
     "data": {
      "text/plain": [
       "True"
      ]
     },
     "execution_count": 86,
     "metadata": {},
     "output_type": "execute_result"
    }
   ],
   "source": [
    "x = y = 3\n",
    "x is y"
   ]
  },
  {
   "cell_type": "code",
   "execution_count": 87,
   "id": "52fcf831",
   "metadata": {},
   "outputs": [
    {
     "data": {
      "text/plain": [
       "False"
      ]
     },
     "execution_count": 87,
     "metadata": {},
     "output_type": "execute_result"
    }
   ],
   "source": [
    "x = 4\n",
    "x is y"
   ]
  },
  {
   "cell_type": "code",
   "execution_count": 88,
   "id": "ab2a33fc",
   "metadata": {},
   "outputs": [
    {
     "name": "stdout",
     "output_type": "stream",
     "text": [
      "[0, 2] [0, 2]\n"
     ]
    }
   ],
   "source": [
    "x = y = [1,2]\n",
    "x[0] = 0\n",
    "print(x,y)"
   ]
  },
  {
   "cell_type": "code",
   "execution_count": 89,
   "id": "b331c697",
   "metadata": {},
   "outputs": [
    {
     "data": {
      "text/plain": [
       "False"
      ]
     },
     "execution_count": 89,
     "metadata": {},
     "output_type": "execute_result"
    }
   ],
   "source": [
    "[3] is [3]"
   ]
  },
  {
   "cell_type": "code",
   "execution_count": 90,
   "id": "261fae3d",
   "metadata": {},
   "outputs": [
    {
     "data": {
      "text/plain": [
       "True"
      ]
     },
     "execution_count": 90,
     "metadata": {},
     "output_type": "execute_result"
    }
   ],
   "source": [
    "[3] == [3]"
   ]
  },
  {
   "cell_type": "code",
   "execution_count": 91,
   "id": "be47b6c2",
   "metadata": {},
   "outputs": [
    {
     "name": "stderr",
     "output_type": "stream",
     "text": [
      "<>:1: SyntaxWarning: \"is\" with a literal. Did you mean \"==\"?\n",
      "<>:1: SyntaxWarning: \"is\" with a literal. Did you mean \"==\"?\n",
      "C:\\Users\\Eunice\\AppData\\Local\\Temp\\ipykernel_91424\\709979984.py:1: SyntaxWarning: \"is\" with a literal. Did you mean \"==\"?\n",
      "  'abc' is 'abc'\n"
     ]
    },
    {
     "data": {
      "text/plain": [
       "True"
      ]
     },
     "execution_count": 91,
     "metadata": {},
     "output_type": "execute_result"
    }
   ],
   "source": [
    "'abc' is 'abc'"
   ]
  },
  {
   "cell_type": "code",
   "execution_count": 93,
   "id": "25b5fa6e",
   "metadata": {},
   "outputs": [
    {
     "name": "stdout",
     "output_type": "stream",
     "text": [
      "in the range\n"
     ]
    }
   ],
   "source": [
    "a = 4\n",
    "if 3 < a < 5:\n",
    "    print('in the range')\n",
    "else:\n",
    "    print('out of range')"
   ]
  },
  {
   "cell_type": "code",
   "execution_count": 94,
   "id": "817b65f1",
   "metadata": {},
   "outputs": [
    {
     "name": "stdout",
     "output_type": "stream",
     "text": [
      "3 3\n"
     ]
    }
   ],
   "source": [
    "def abs(a):\n",
    "    if a >= 0:\n",
    "        return a\n",
    "    else:\n",
    "        return -a\n",
    "print(abs(3),abs(-3))"
   ]
  },
  {
   "cell_type": "code",
   "execution_count": 95,
   "id": "0e3acd3f",
   "metadata": {},
   "outputs": [
    {
     "name": "stdout",
     "output_type": "stream",
     "text": [
      "3 3\n"
     ]
    }
   ],
   "source": [
    "def abs(a):\n",
    "    return a if a >= 0 else -a\n",
    "print(abs(3),abs(-3))"
   ]
  },
  {
   "cell_type": "code",
   "execution_count": 98,
   "id": "1711e5ef",
   "metadata": {},
   "outputs": [
    {
     "name": "stdout",
     "output_type": "stream",
     "text": [
      "please input your name: \n",
      "forgot your name?\n"
     ]
    }
   ],
   "source": [
    "name = input('please input your name: ')\n",
    "print(f'hello,{name}' if name else 'forgot your name?')"
   ]
  },
  {
   "cell_type": "code",
   "execution_count": 99,
   "id": "4d1441d3",
   "metadata": {},
   "outputs": [
    {
     "data": {
      "text/plain": [
       "False"
      ]
     },
     "execution_count": 99,
     "metadata": {},
     "output_type": "execute_result"
    }
   ],
   "source": [
    "'' == False"
   ]
  },
  {
   "cell_type": "code",
   "execution_count": 100,
   "id": "5aafbda9",
   "metadata": {},
   "outputs": [
    {
     "data": {
      "text/plain": [
       "True"
      ]
     },
     "execution_count": 100,
     "metadata": {},
     "output_type": "execute_result"
    }
   ],
   "source": [
    "bool('') == False"
   ]
  },
  {
   "cell_type": "code",
   "execution_count": null,
   "id": "a242b956",
   "metadata": {},
   "outputs": [],
   "source": []
  }
 ],
 "metadata": {
  "kernelspec": {
   "display_name": "Python 3 (ipykernel)",
   "language": "python",
   "name": "python3"
  },
  "language_info": {
   "codemirror_mode": {
    "name": "ipython",
    "version": 3
   },
   "file_extension": ".py",
   "mimetype": "text/x-python",
   "name": "python",
   "nbconvert_exporter": "python",
   "pygments_lexer": "ipython3",
   "version": "3.11.5"
  }
 },
 "nbformat": 4,
 "nbformat_minor": 5
}
